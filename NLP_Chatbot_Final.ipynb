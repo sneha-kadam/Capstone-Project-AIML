{
 "cells": [
  {
   "cell_type": "markdown",
   "metadata": {},
   "source": [
    "Master GitHub Link :https://github.com/SaiCharan99/GL-Capstone-NLP2/tree/main"
   ]
  },
  {
   "cell_type": "markdown",
   "metadata": {},
   "source": [
    "## NLP - 2 - Semi Ruled Chat-bot"
   ]
  },
  {
   "cell_type": "code",
   "execution_count": 279,
   "metadata": {
    "executionInfo": {
     "elapsed": 6201,
     "status": "ok",
     "timestamp": 1643465933533,
     "user": {
      "displayName": "Hari chandana",
      "photoUrl": "https://lh3.googleusercontent.com/a-/AOh14Ggw5Mxz3vw2JK72tq9cQj2vsDS_hk4IZ4hqfag8KA=s64",
      "userId": "14544941550889507247"
     },
     "user_tz": -330
    },
    "id": "8_7bh9VVlW5L"
   },
   "outputs": [],
   "source": [
    "import numpy as np # linear algebra\n",
    "import pandas as pd # data processing, CSV file I/O (e.g. pd.read_csv)\n",
    "from tqdm import tqdm\n",
    "from sklearn.model_selection import train_test_split\n",
    "import tensorflow as tf\n",
    "from keras.models import Sequential\n",
    "from keras.layers.recurrent import LSTM, GRU,SimpleRNN\n",
    "from keras.layers.core import Dense, Activation, Dropout\n",
    "from keras.layers.embeddings import Embedding\n",
    "from keras.utils import np_utils\n",
    "from collections import Counter\n",
    "\n",
    "from sklearn import preprocessing, decomposition, model_selection, metrics, pipeline\n",
    "from keras.layers import GlobalMaxPooling1D, Conv1D, MaxPooling1D, Flatten, Bidirectional, SpatialDropout1D\n",
    "from keras.preprocessing import sequence, text\n",
    "from keras.callbacks import EarlyStopping\n",
    "from sklearn.metrics import classification_report\n",
    "import matplotlib.pyplot as plt\n",
    "import seaborn as sns\n",
    "%matplotlib inline\n",
    "from plotly import graph_objs as go\n",
    "import plotly.express as px\n",
    "import plotly.figure_factory as ff\n",
    "from sklearn.feature_extraction.text import TfidfVectorizer, CountVectorizer\n",
    "from sklearn.naive_bayes import MultinomialNB\n",
    "from sklearn import metrics\n",
    "from sklearn.svm import SVC\n",
    "from sklearn.neighbors import KNeighborsClassifier\n",
    "\n",
    "import warnings\n",
    "warnings.filterwarnings('ignore')"
   ]
  },
  {
   "cell_type": "code",
   "execution_count": 280,
   "metadata": {
    "executionInfo": {
     "elapsed": 97,
     "status": "ok",
     "timestamp": 1643465965318,
     "user": {
      "displayName": "Hari chandana",
      "photoUrl": "https://lh3.googleusercontent.com/a-/AOh14Ggw5Mxz3vw2JK72tq9cQj2vsDS_hk4IZ4hqfag8KA=s64",
      "userId": "14544941550889507247"
     },
     "user_tz": -330
    },
    "id": "ARoGgcKzrCNR"
   },
   "outputs": [],
   "source": [
    "import pandas as pd\n",
    "df=pd.read_csv(\"data.csv\")"
   ]
  },
  {
   "cell_type": "code",
   "execution_count": 281,
   "metadata": {
    "colab": {
     "base_uri": "https://localhost:8080/",
     "height": 354
    },
    "executionInfo": {
     "elapsed": 96,
     "status": "ok",
     "timestamp": 1643465965320,
     "user": {
      "displayName": "Hari chandana",
      "photoUrl": "https://lh3.googleusercontent.com/a-/AOh14Ggw5Mxz3vw2JK72tq9cQj2vsDS_hk4IZ4hqfag8KA=s64",
      "userId": "14544941550889507247"
     },
     "user_tz": -330
    },
    "id": "gytP3wl_trzD",
    "outputId": "f1240b8a-0bd2-48a9-8fe6-0e7914456a0b"
   },
   "outputs": [
    {
     "data": {
      "text/html": [
       "<div>\n",
       "<style scoped>\n",
       "    .dataframe tbody tr th:only-of-type {\n",
       "        vertical-align: middle;\n",
       "    }\n",
       "\n",
       "    .dataframe tbody tr th {\n",
       "        vertical-align: top;\n",
       "    }\n",
       "\n",
       "    .dataframe thead th {\n",
       "        text-align: right;\n",
       "    }\n",
       "</style>\n",
       "<table border=\"1\" class=\"dataframe\">\n",
       "  <thead>\n",
       "    <tr style=\"text-align: right;\">\n",
       "      <th></th>\n",
       "      <th>Unnamed: 0</th>\n",
       "      <th>Data</th>\n",
       "      <th>Countries</th>\n",
       "      <th>Local</th>\n",
       "      <th>Industry Sector</th>\n",
       "      <th>Accident Level</th>\n",
       "      <th>Potential Accident Level</th>\n",
       "      <th>Genre</th>\n",
       "      <th>Employee or Third Party</th>\n",
       "      <th>Critical Risk</th>\n",
       "      <th>Description</th>\n",
       "    </tr>\n",
       "  </thead>\n",
       "  <tbody>\n",
       "    <tr>\n",
       "      <th>0</th>\n",
       "      <td>0</td>\n",
       "      <td>2016-01-01 00:00:00</td>\n",
       "      <td>Country_01</td>\n",
       "      <td>Local_01</td>\n",
       "      <td>Mining</td>\n",
       "      <td>I</td>\n",
       "      <td>IV</td>\n",
       "      <td>Male</td>\n",
       "      <td>Third Party</td>\n",
       "      <td>Pressed</td>\n",
       "      <td>While removing the drill rod of the Jumbo 08 f...</td>\n",
       "    </tr>\n",
       "    <tr>\n",
       "      <th>1</th>\n",
       "      <td>1</td>\n",
       "      <td>2016-01-02 00:00:00</td>\n",
       "      <td>Country_02</td>\n",
       "      <td>Local_02</td>\n",
       "      <td>Mining</td>\n",
       "      <td>I</td>\n",
       "      <td>IV</td>\n",
       "      <td>Male</td>\n",
       "      <td>Employee</td>\n",
       "      <td>Pressurized Systems</td>\n",
       "      <td>During the activation of a sodium sulphide pum...</td>\n",
       "    </tr>\n",
       "    <tr>\n",
       "      <th>2</th>\n",
       "      <td>2</td>\n",
       "      <td>2016-01-06 00:00:00</td>\n",
       "      <td>Country_01</td>\n",
       "      <td>Local_03</td>\n",
       "      <td>Mining</td>\n",
       "      <td>I</td>\n",
       "      <td>III</td>\n",
       "      <td>Male</td>\n",
       "      <td>Third Party (Remote)</td>\n",
       "      <td>Manual Tools</td>\n",
       "      <td>In the sub-station MILPO located at level +170...</td>\n",
       "    </tr>\n",
       "    <tr>\n",
       "      <th>3</th>\n",
       "      <td>3</td>\n",
       "      <td>2016-01-08 00:00:00</td>\n",
       "      <td>Country_01</td>\n",
       "      <td>Local_04</td>\n",
       "      <td>Mining</td>\n",
       "      <td>I</td>\n",
       "      <td>I</td>\n",
       "      <td>Male</td>\n",
       "      <td>Third Party</td>\n",
       "      <td>Others</td>\n",
       "      <td>Being 9:45 am. approximately in the Nv. 1880 C...</td>\n",
       "    </tr>\n",
       "    <tr>\n",
       "      <th>4</th>\n",
       "      <td>4</td>\n",
       "      <td>2016-01-10 00:00:00</td>\n",
       "      <td>Country_01</td>\n",
       "      <td>Local_04</td>\n",
       "      <td>Mining</td>\n",
       "      <td>IV</td>\n",
       "      <td>IV</td>\n",
       "      <td>Male</td>\n",
       "      <td>Third Party</td>\n",
       "      <td>Others</td>\n",
       "      <td>Approximately at 11:45 a.m. in circumstances t...</td>\n",
       "    </tr>\n",
       "  </tbody>\n",
       "</table>\n",
       "</div>"
      ],
      "text/plain": [
       "   Unnamed: 0                 Data   Countries     Local Industry Sector  \\\n",
       "0           0  2016-01-01 00:00:00  Country_01  Local_01          Mining   \n",
       "1           1  2016-01-02 00:00:00  Country_02  Local_02          Mining   \n",
       "2           2  2016-01-06 00:00:00  Country_01  Local_03          Mining   \n",
       "3           3  2016-01-08 00:00:00  Country_01  Local_04          Mining   \n",
       "4           4  2016-01-10 00:00:00  Country_01  Local_04          Mining   \n",
       "\n",
       "  Accident Level Potential Accident Level Genre Employee or Third Party  \\\n",
       "0              I                       IV  Male             Third Party   \n",
       "1              I                       IV  Male                Employee   \n",
       "2              I                      III  Male    Third Party (Remote)   \n",
       "3              I                        I  Male             Third Party   \n",
       "4             IV                       IV  Male             Third Party   \n",
       "\n",
       "         Critical Risk                                        Description  \n",
       "0              Pressed  While removing the drill rod of the Jumbo 08 f...  \n",
       "1  Pressurized Systems  During the activation of a sodium sulphide pum...  \n",
       "2         Manual Tools  In the sub-station MILPO located at level +170...  \n",
       "3               Others  Being 9:45 am. approximately in the Nv. 1880 C...  \n",
       "4               Others  Approximately at 11:45 a.m. in circumstances t...  "
      ]
     },
     "execution_count": 281,
     "metadata": {},
     "output_type": "execute_result"
    }
   ],
   "source": [
    "df.head()"
   ]
  },
  {
   "cell_type": "code",
   "execution_count": 282,
   "metadata": {
    "colab": {
     "base_uri": "https://localhost:8080/"
    },
    "executionInfo": {
     "elapsed": 92,
     "status": "ok",
     "timestamp": 1643465965321,
     "user": {
      "displayName": "Hari chandana",
      "photoUrl": "https://lh3.googleusercontent.com/a-/AOh14Ggw5Mxz3vw2JK72tq9cQj2vsDS_hk4IZ4hqfag8KA=s64",
      "userId": "14544941550889507247"
     },
     "user_tz": -330
    },
    "id": "6gsRPprSt0wS",
    "outputId": "ec05a555-9884-41cc-bb9c-6bee19e0682d"
   },
   "outputs": [
    {
     "data": {
      "text/plain": [
       "Unnamed: 0                  0\n",
       "Data                        0\n",
       "Countries                   0\n",
       "Local                       0\n",
       "Industry Sector             0\n",
       "Accident Level              0\n",
       "Potential Accident Level    0\n",
       "Genre                       0\n",
       "Employee or Third Party     0\n",
       "Critical Risk               0\n",
       "Description                 0\n",
       "dtype: int64"
      ]
     },
     "execution_count": 282,
     "metadata": {},
     "output_type": "execute_result"
    }
   ],
   "source": [
    "df.isnull().sum()\n",
    "#no null values"
   ]
  },
  {
   "cell_type": "code",
   "execution_count": 283,
   "metadata": {
    "colab": {
     "base_uri": "https://localhost:8080/"
    },
    "executionInfo": {
     "elapsed": 84,
     "status": "ok",
     "timestamp": 1643465965322,
     "user": {
      "displayName": "Hari chandana",
      "photoUrl": "https://lh3.googleusercontent.com/a-/AOh14Ggw5Mxz3vw2JK72tq9cQj2vsDS_hk4IZ4hqfag8KA=s64",
      "userId": "14544941550889507247"
     },
     "user_tz": -330
    },
    "id": "_UsLy12wuYD-",
    "outputId": "3fdf6cec-3026-4518-eeba-3567fb7cd35b"
   },
   "outputs": [
    {
     "data": {
      "text/plain": [
       "0"
      ]
     },
     "execution_count": 283,
     "metadata": {},
     "output_type": "execute_result"
    }
   ],
   "source": [
    "df.duplicated().sum()\n",
    "#no duplicates"
   ]
  },
  {
   "cell_type": "code",
   "execution_count": 284,
   "metadata": {
    "colab": {
     "base_uri": "https://localhost:8080/"
    },
    "executionInfo": {
     "elapsed": 77,
     "status": "ok",
     "timestamp": 1643465965323,
     "user": {
      "displayName": "Hari chandana",
      "photoUrl": "https://lh3.googleusercontent.com/a-/AOh14Ggw5Mxz3vw2JK72tq9cQj2vsDS_hk4IZ4hqfag8KA=s64",
      "userId": "14544941550889507247"
     },
     "user_tz": -330
    },
    "id": "wPRL__0Yum4D",
    "outputId": "6b587e62-dc81-4a2b-cf63-8ffda4958cad",
    "scrolled": true
   },
   "outputs": [
    {
     "name": "stdout",
     "output_type": "stream",
     "text": [
      "<class 'pandas.core.frame.DataFrame'>\n",
      "RangeIndex: 425 entries, 0 to 424\n",
      "Data columns (total 11 columns):\n",
      "Unnamed: 0                  425 non-null int64\n",
      "Data                        425 non-null object\n",
      "Countries                   425 non-null object\n",
      "Local                       425 non-null object\n",
      "Industry Sector             425 non-null object\n",
      "Accident Level              425 non-null object\n",
      "Potential Accident Level    425 non-null object\n",
      "Genre                       425 non-null object\n",
      "Employee or Third Party     425 non-null object\n",
      "Critical Risk               425 non-null object\n",
      "Description                 425 non-null object\n",
      "dtypes: int64(1), object(10)\n",
      "memory usage: 36.6+ KB\n"
     ]
    }
   ],
   "source": [
    "df.info()"
   ]
  },
  {
   "cell_type": "code",
   "execution_count": 285,
   "metadata": {},
   "outputs": [
    {
     "data": {
      "text/html": [
       "<div>\n",
       "<style scoped>\n",
       "    .dataframe tbody tr th:only-of-type {\n",
       "        vertical-align: middle;\n",
       "    }\n",
       "\n",
       "    .dataframe tbody tr th {\n",
       "        vertical-align: top;\n",
       "    }\n",
       "\n",
       "    .dataframe thead th {\n",
       "        text-align: right;\n",
       "    }\n",
       "</style>\n",
       "<table border=\"1\" class=\"dataframe\">\n",
       "  <thead>\n",
       "    <tr style=\"text-align: right;\">\n",
       "      <th></th>\n",
       "      <th>Unnamed: 0</th>\n",
       "      <th>Data</th>\n",
       "      <th>Countries</th>\n",
       "      <th>Local</th>\n",
       "      <th>Industry Sector</th>\n",
       "      <th>Accident Level</th>\n",
       "      <th>Potential Accident Level</th>\n",
       "      <th>Genre</th>\n",
       "      <th>Employee or Third Party</th>\n",
       "      <th>Critical Risk</th>\n",
       "      <th>Description</th>\n",
       "    </tr>\n",
       "  </thead>\n",
       "  <tbody>\n",
       "    <tr>\n",
       "      <th>0</th>\n",
       "      <td>0</td>\n",
       "      <td>2016-01-01 00:00:00</td>\n",
       "      <td>Country_01</td>\n",
       "      <td>Local_01</td>\n",
       "      <td>Mining</td>\n",
       "      <td>I</td>\n",
       "      <td>IV</td>\n",
       "      <td>Male</td>\n",
       "      <td>Third Party</td>\n",
       "      <td>Pressed</td>\n",
       "      <td>While removing the drill rod of the Jumbo 08 f...</td>\n",
       "    </tr>\n",
       "    <tr>\n",
       "      <th>1</th>\n",
       "      <td>1</td>\n",
       "      <td>2016-01-02 00:00:00</td>\n",
       "      <td>Country_02</td>\n",
       "      <td>Local_02</td>\n",
       "      <td>Mining</td>\n",
       "      <td>I</td>\n",
       "      <td>IV</td>\n",
       "      <td>Male</td>\n",
       "      <td>Employee</td>\n",
       "      <td>Pressurized Systems</td>\n",
       "      <td>During the activation of a sodium sulphide pum...</td>\n",
       "    </tr>\n",
       "    <tr>\n",
       "      <th>2</th>\n",
       "      <td>2</td>\n",
       "      <td>2016-01-06 00:00:00</td>\n",
       "      <td>Country_01</td>\n",
       "      <td>Local_03</td>\n",
       "      <td>Mining</td>\n",
       "      <td>I</td>\n",
       "      <td>III</td>\n",
       "      <td>Male</td>\n",
       "      <td>Third Party (Remote)</td>\n",
       "      <td>Manual Tools</td>\n",
       "      <td>In the sub-station MILPO located at level +170...</td>\n",
       "    </tr>\n",
       "    <tr>\n",
       "      <th>3</th>\n",
       "      <td>3</td>\n",
       "      <td>2016-01-08 00:00:00</td>\n",
       "      <td>Country_01</td>\n",
       "      <td>Local_04</td>\n",
       "      <td>Mining</td>\n",
       "      <td>I</td>\n",
       "      <td>I</td>\n",
       "      <td>Male</td>\n",
       "      <td>Third Party</td>\n",
       "      <td>Others</td>\n",
       "      <td>Being 9:45 am. approximately in the Nv. 1880 C...</td>\n",
       "    </tr>\n",
       "    <tr>\n",
       "      <th>4</th>\n",
       "      <td>4</td>\n",
       "      <td>2016-01-10 00:00:00</td>\n",
       "      <td>Country_01</td>\n",
       "      <td>Local_04</td>\n",
       "      <td>Mining</td>\n",
       "      <td>IV</td>\n",
       "      <td>IV</td>\n",
       "      <td>Male</td>\n",
       "      <td>Third Party</td>\n",
       "      <td>Others</td>\n",
       "      <td>Approximately at 11:45 a.m. in circumstances t...</td>\n",
       "    </tr>\n",
       "  </tbody>\n",
       "</table>\n",
       "</div>"
      ],
      "text/plain": [
       "   Unnamed: 0                 Data   Countries     Local Industry Sector  \\\n",
       "0           0  2016-01-01 00:00:00  Country_01  Local_01          Mining   \n",
       "1           1  2016-01-02 00:00:00  Country_02  Local_02          Mining   \n",
       "2           2  2016-01-06 00:00:00  Country_01  Local_03          Mining   \n",
       "3           3  2016-01-08 00:00:00  Country_01  Local_04          Mining   \n",
       "4           4  2016-01-10 00:00:00  Country_01  Local_04          Mining   \n",
       "\n",
       "  Accident Level Potential Accident Level Genre Employee or Third Party  \\\n",
       "0              I                       IV  Male             Third Party   \n",
       "1              I                       IV  Male                Employee   \n",
       "2              I                      III  Male    Third Party (Remote)   \n",
       "3              I                        I  Male             Third Party   \n",
       "4             IV                       IV  Male             Third Party   \n",
       "\n",
       "         Critical Risk                                        Description  \n",
       "0              Pressed  While removing the drill rod of the Jumbo 08 f...  \n",
       "1  Pressurized Systems  During the activation of a sodium sulphide pum...  \n",
       "2         Manual Tools  In the sub-station MILPO located at level +170...  \n",
       "3               Others  Being 9:45 am. approximately in the Nv. 1880 C...  \n",
       "4               Others  Approximately at 11:45 a.m. in circumstances t...  "
      ]
     },
     "execution_count": 285,
     "metadata": {},
     "output_type": "execute_result"
    }
   ],
   "source": [
    "df.shape\n",
    "df.head()\n",
    "#We have 425 rows of data with 11 different features"
   ]
  },
  {
   "cell_type": "code",
   "execution_count": 286,
   "metadata": {},
   "outputs": [
    {
     "name": "stdout",
     "output_type": "stream",
     "text": [
      "[('Pressed', 24), ('Manual Tools', 20), ('Chemical substances', 17), ('Venomous Animals', 16), ('Cut', 14), ('Projection', 13), ('Bees', 10), ('Fall', 9), ('Vehicles and Mobile Equipment', 8), ('Pressurized Systems', 7)]\n"
     ]
    },
    {
     "data": {
      "image/png": "[encoded data removed]",
      "text/plain": [
       "<Figure size 432x288 with 1 Axes>"
      ]
     },
     "metadata": {
      "needs_background": "light"
     },
     "output_type": "display_data"
    }
   ],
   "source": [
    "CR=df[\"Critical Risk\"]\n",
    "CR_Others = CR[CR=='Others']\n",
    "CR_NoOthers = CR[CR!='Others']#Contains all the Critical Risks without 'others'\n",
    "\n",
    "words = Counter(CR_NoOthers)\n",
    "df_words = pd.DataFrame.from_dict(words, orient='index')\n",
    "df_words = df_words.rename(columns={df_words.columns[0]: 'Count'})\n",
    "\n",
    "df_words=df_words.sort_values(\"Count\")\n",
    "df_words[\"Count\"].plot(kind='bar')\n",
    "print(words.most_common(10))\n"
   ]
  },
  {
   "cell_type": "code",
   "execution_count": 287,
   "metadata": {},
   "outputs": [],
   "source": [
    "# We can see that most critical risks are caused by:-\n",
    "# Pressed:- Incidents involving machinery causing accidental press\n",
    "# Manual Tools:- Accidents due to none proper usage of manual tools\n",
    "# Chemical Substances:- Accidents due to improper usage of hazardous chemicals"
   ]
  },
  {
   "cell_type": "code",
   "execution_count": 288,
   "metadata": {
    "executionInfo": {
     "elapsed": 69,
     "status": "ok",
     "timestamp": 1643465965324,
     "user": {
      "displayName": "Hari chandana",
      "photoUrl": "https://lh3.googleusercontent.com/a-/AOh14Ggw5Mxz3vw2JK72tq9cQj2vsDS_hk4IZ4hqfag8KA=s64",
      "userId": "14544941550889507247"
     },
     "user_tz": -330
    },
    "id": "_Om91y2_heN5"
   },
   "outputs": [],
   "source": [
    "x=df.copy()"
   ]
  },
  {
   "cell_type": "code",
   "execution_count": 289,
   "metadata": {
    "executionInfo": {
     "elapsed": 68,
     "status": "ok",
     "timestamp": 1643465965325,
     "user": {
      "displayName": "Hari chandana",
      "photoUrl": "https://lh3.googleusercontent.com/a-/AOh14Ggw5Mxz3vw2JK72tq9cQj2vsDS_hk4IZ4hqfag8KA=s64",
      "userId": "14544941550889507247"
     },
     "user_tz": -330
    },
    "id": "d3wermj5k5d1"
   },
   "outputs": [],
   "source": [
    "# extracting year,moth and date from timestamp column\n",
    "year=[]\n",
    "month=[]\n",
    "date=[]\n",
    "for x in range(df.shape[0]):\n",
    "  h=df['Data'][x].split()\n",
    "  k=h[0].split('-')\n",
    "  year.append(int(k[0]))\n",
    "  month.append(int(k[1]))\n",
    "  date.append(int(k[2]))"
   ]
  },
  {
   "cell_type": "code",
   "execution_count": 290,
   "metadata": {
    "colab": {
     "base_uri": "https://localhost:8080/",
     "height": 206
    },
    "executionInfo": {
     "elapsed": 68,
     "status": "ok",
     "timestamp": 1643465965326,
     "user": {
      "displayName": "Hari chandana",
      "photoUrl": "https://lh3.googleusercontent.com/a-/AOh14Ggw5Mxz3vw2JK72tq9cQj2vsDS_hk4IZ4hqfag8KA=s64",
      "userId": "14544941550889507247"
     },
     "user_tz": -330
    },
    "id": "YJxMnIU9lXET",
    "outputId": "ca30269b-73ec-4842-fb2d-758f07b47b4a"
   },
   "outputs": [
    {
     "data": {
      "text/html": [
       "<div>\n",
       "<style scoped>\n",
       "    .dataframe tbody tr th:only-of-type {\n",
       "        vertical-align: middle;\n",
       "    }\n",
       "\n",
       "    .dataframe tbody tr th {\n",
       "        vertical-align: top;\n",
       "    }\n",
       "\n",
       "    .dataframe thead th {\n",
       "        text-align: right;\n",
       "    }\n",
       "</style>\n",
       "<table border=\"1\" class=\"dataframe\">\n",
       "  <thead>\n",
       "    <tr style=\"text-align: right;\">\n",
       "      <th></th>\n",
       "      <th>Year</th>\n",
       "      <th>Month</th>\n",
       "      <th>Date</th>\n",
       "    </tr>\n",
       "  </thead>\n",
       "  <tbody>\n",
       "    <tr>\n",
       "      <th>0</th>\n",
       "      <td>2016</td>\n",
       "      <td>1</td>\n",
       "      <td>1</td>\n",
       "    </tr>\n",
       "    <tr>\n",
       "      <th>1</th>\n",
       "      <td>2016</td>\n",
       "      <td>1</td>\n",
       "      <td>2</td>\n",
       "    </tr>\n",
       "    <tr>\n",
       "      <th>2</th>\n",
       "      <td>2016</td>\n",
       "      <td>1</td>\n",
       "      <td>6</td>\n",
       "    </tr>\n",
       "    <tr>\n",
       "      <th>3</th>\n",
       "      <td>2016</td>\n",
       "      <td>1</td>\n",
       "      <td>8</td>\n",
       "    </tr>\n",
       "    <tr>\n",
       "      <th>4</th>\n",
       "      <td>2016</td>\n",
       "      <td>1</td>\n",
       "      <td>10</td>\n",
       "    </tr>\n",
       "  </tbody>\n",
       "</table>\n",
       "</div>"
      ],
      "text/plain": [
       "   Year  Month  Date\n",
       "0  2016      1     1\n",
       "1  2016      1     2\n",
       "2  2016      1     6\n",
       "3  2016      1     8\n",
       "4  2016      1    10"
      ]
     },
     "execution_count": 290,
     "metadata": {},
     "output_type": "execute_result"
    }
   ],
   "source": [
    "dates=list(zip(year,month,date))\n",
    "df_date=pd.DataFrame(dates,columns=['Year','Month','Date'])\n",
    "df_date.head()\n",
    "#Breaking down date into appropriate fields"
   ]
  },
  {
   "cell_type": "code",
   "execution_count": 291,
   "metadata": {
    "executionInfo": {
     "elapsed": 66,
     "status": "ok",
     "timestamp": 1643465965326,
     "user": {
      "displayName": "Hari chandana",
      "photoUrl": "https://lh3.googleusercontent.com/a-/AOh14Ggw5Mxz3vw2JK72tq9cQj2vsDS_hk4IZ4hqfag8KA=s64",
      "userId": "14544941550889507247"
     },
     "user_tz": -330
    },
    "id": "9Zub0XG1nLHf"
   },
   "outputs": [],
   "source": [
    "df_new=pd.concat([df,df_date],axis=1)"
   ]
  },
  {
   "cell_type": "code",
   "execution_count": 292,
   "metadata": {
    "colab": {
     "base_uri": "https://localhost:8080/"
    },
    "executionInfo": {
     "elapsed": 67,
     "status": "ok",
     "timestamp": 1643465965328,
     "user": {
      "displayName": "Hari chandana",
      "photoUrl": "https://lh3.googleusercontent.com/a-/AOh14Ggw5Mxz3vw2JK72tq9cQj2vsDS_hk4IZ4hqfag8KA=s64",
      "userId": "14544941550889507247"
     },
     "user_tz": -330
    },
    "id": "OHVAQ7XsnUxP",
    "outputId": "a165c1ba-2e64-43ee-bbc0-6459a51b563b"
   },
   "outputs": [
    {
     "data": {
      "text/plain": [
       "['Unnamed: 0',\n",
       " 'Data',\n",
       " 'Countries',\n",
       " 'Local',\n",
       " 'Industry Sector',\n",
       " 'Accident Level',\n",
       " 'Potential Accident Level',\n",
       " 'Genre',\n",
       " 'Employee or Third Party',\n",
       " 'Critical Risk',\n",
       " 'Description',\n",
       " 'Year',\n",
       " 'Month',\n",
       " 'Date']"
      ]
     },
     "execution_count": 292,
     "metadata": {},
     "output_type": "execute_result"
    }
   ],
   "source": [
    "col=df_new.columns.to_list()\n",
    "col"
   ]
  },
  {
   "cell_type": "code",
   "execution_count": 293,
   "metadata": {
    "colab": {
     "base_uri": "https://localhost:8080/"
    },
    "executionInfo": {
     "elapsed": 61,
     "status": "ok",
     "timestamp": 1643465965329,
     "user": {
      "displayName": "Hari chandana",
      "photoUrl": "https://lh3.googleusercontent.com/a-/AOh14Ggw5Mxz3vw2JK72tq9cQj2vsDS_hk4IZ4hqfag8KA=s64",
      "userId": "14544941550889507247"
     },
     "user_tz": -330
    },
    "id": "7BlwSvrBnn8g",
    "outputId": "cb34e56f-a98a-4e86-cc23-29b72f38505e"
   },
   "outputs": [
    {
     "data": {
      "text/plain": [
       "['Unnamed: 0',\n",
       " 'Data',\n",
       " 'Year',\n",
       " 'Month',\n",
       " 'Date',\n",
       " 'Countries',\n",
       " 'Local',\n",
       " 'Industry Sector',\n",
       " 'Accident Level',\n",
       " 'Potential Accident Level',\n",
       " 'Genre',\n",
       " 'Employee or Third Party',\n",
       " 'Critical Risk',\n",
       " 'Description']"
      ]
     },
     "execution_count": 293,
     "metadata": {},
     "output_type": "execute_result"
    }
   ],
   "source": [
    "#concatenating the columns in one dataframe\n",
    "col1 =col[:2]+col[-3:]+col[2:-3]\n",
    "col1"
   ]
  },
  {
   "cell_type": "code",
   "execution_count": 294,
   "metadata": {
    "executionInfo": {
     "elapsed": 56,
     "status": "ok",
     "timestamp": 1643465965330,
     "user": {
      "displayName": "Hari chandana",
      "photoUrl": "https://lh3.googleusercontent.com/a-/AOh14Ggw5Mxz3vw2JK72tq9cQj2vsDS_hk4IZ4hqfag8KA=s64",
      "userId": "14544941550889507247"
     },
     "user_tz": -330
    },
    "id": "7Oopzk_VnrJg"
   },
   "outputs": [],
   "source": [
    "df_latest = df_new[col1]"
   ]
  },
  {
   "cell_type": "code",
   "execution_count": null,
   "metadata": {
    "executionInfo": {
     "elapsed": 57,
     "status": "ok",
     "timestamp": 1643465965332,
     "user": {
      "displayName": "Hari chandana",
      "photoUrl": "https://lh3.googleusercontent.com/a-/AOh14Ggw5Mxz3vw2JK72tq9cQj2vsDS_hk4IZ4hqfag8KA=s64",
      "userId": "14544941550889507247"
     },
     "user_tz": -330
    },
    "id": "ofEuWmPnn8-h"
   },
   "outputs": [],
   "source": []
  },
  {
   "cell_type": "code",
   "execution_count": 295,
   "metadata": {
    "colab": {
     "base_uri": "https://localhost:8080/",
     "height": 257
    },
    "executionInfo": {
     "elapsed": 57,
     "status": "ok",
     "timestamp": 1643465965333,
     "user": {
      "displayName": "Hari chandana",
      "photoUrl": "https://lh3.googleusercontent.com/a-/AOh14Ggw5Mxz3vw2JK72tq9cQj2vsDS_hk4IZ4hqfag8KA=s64",
      "userId": "14544941550889507247"
     },
     "user_tz": -330
    },
    "id": "KgowjY6MoYci",
    "outputId": "0d79534a-02c2-44a4-ba7c-1f6820a8c49d"
   },
   "outputs": [
    {
     "data": {
      "text/html": [
       "<div>\n",
       "<style scoped>\n",
       "    .dataframe tbody tr th:only-of-type {\n",
       "        vertical-align: middle;\n",
       "    }\n",
       "\n",
       "    .dataframe tbody tr th {\n",
       "        vertical-align: top;\n",
       "    }\n",
       "\n",
       "    .dataframe thead th {\n",
       "        text-align: right;\n",
       "    }\n",
       "</style>\n",
       "<table border=\"1\" class=\"dataframe\">\n",
       "  <thead>\n",
       "    <tr style=\"text-align: right;\">\n",
       "      <th></th>\n",
       "      <th>Year</th>\n",
       "      <th>Month</th>\n",
       "      <th>Date</th>\n",
       "      <th>Countries</th>\n",
       "      <th>Local</th>\n",
       "      <th>Industry Sector</th>\n",
       "      <th>Accident Level</th>\n",
       "      <th>Potential Accident Level</th>\n",
       "      <th>Genre</th>\n",
       "      <th>Employee or Third Party</th>\n",
       "      <th>Critical Risk</th>\n",
       "      <th>Description</th>\n",
       "    </tr>\n",
       "  </thead>\n",
       "  <tbody>\n",
       "    <tr>\n",
       "      <th>0</th>\n",
       "      <td>2016</td>\n",
       "      <td>1</td>\n",
       "      <td>1</td>\n",
       "      <td>Country_01</td>\n",
       "      <td>Local_01</td>\n",
       "      <td>Mining</td>\n",
       "      <td>I</td>\n",
       "      <td>IV</td>\n",
       "      <td>Male</td>\n",
       "      <td>Third Party</td>\n",
       "      <td>Pressed</td>\n",
       "      <td>While removing the drill rod of the Jumbo 08 f...</td>\n",
       "    </tr>\n",
       "    <tr>\n",
       "      <th>1</th>\n",
       "      <td>2016</td>\n",
       "      <td>1</td>\n",
       "      <td>2</td>\n",
       "      <td>Country_02</td>\n",
       "      <td>Local_02</td>\n",
       "      <td>Mining</td>\n",
       "      <td>I</td>\n",
       "      <td>IV</td>\n",
       "      <td>Male</td>\n",
       "      <td>Employee</td>\n",
       "      <td>Pressurized Systems</td>\n",
       "      <td>During the activation of a sodium sulphide pum...</td>\n",
       "    </tr>\n",
       "    <tr>\n",
       "      <th>2</th>\n",
       "      <td>2016</td>\n",
       "      <td>1</td>\n",
       "      <td>6</td>\n",
       "      <td>Country_01</td>\n",
       "      <td>Local_03</td>\n",
       "      <td>Mining</td>\n",
       "      <td>I</td>\n",
       "      <td>III</td>\n",
       "      <td>Male</td>\n",
       "      <td>Third Party (Remote)</td>\n",
       "      <td>Manual Tools</td>\n",
       "      <td>In the sub-station MILPO located at level +170...</td>\n",
       "    </tr>\n",
       "  </tbody>\n",
       "</table>\n",
       "</div>"
      ],
      "text/plain": [
       "   Year  Month  Date   Countries     Local Industry Sector Accident Level  \\\n",
       "0  2016      1     1  Country_01  Local_01          Mining              I   \n",
       "1  2016      1     2  Country_02  Local_02          Mining              I   \n",
       "2  2016      1     6  Country_01  Local_03          Mining              I   \n",
       "\n",
       "  Potential Accident Level Genre Employee or Third Party        Critical Risk  \\\n",
       "0                       IV  Male             Third Party              Pressed   \n",
       "1                       IV  Male                Employee  Pressurized Systems   \n",
       "2                      III  Male    Third Party (Remote)         Manual Tools   \n",
       "\n",
       "                                         Description  \n",
       "0  While removing the drill rod of the Jumbo 08 f...  \n",
       "1  During the activation of a sodium sulphide pum...  \n",
       "2  In the sub-station MILPO located at level +170...  "
      ]
     },
     "execution_count": 295,
     "metadata": {},
     "output_type": "execute_result"
    }
   ],
   "source": [
    "df_latest.drop(['Unnamed: 0','Data'], axis=1,inplace = True)\n",
    "df_latest.head(3)"
   ]
  },
  {
   "cell_type": "code",
   "execution_count": 296,
   "metadata": {
    "colab": {
     "base_uri": "https://localhost:8080/",
     "height": 248
    },
    "executionInfo": {
     "elapsed": 56,
     "status": "ok",
     "timestamp": 1643465965334,
     "user": {
      "displayName": "Hari chandana",
      "photoUrl": "https://lh3.googleusercontent.com/a-/AOh14Ggw5Mxz3vw2JK72tq9cQj2vsDS_hk4IZ4hqfag8KA=s64",
      "userId": "14544941550889507247"
     },
     "user_tz": -330
    },
    "id": "BZ4jHYo8Av-x",
    "outputId": "6ab65aec-7361-4336-c945-6514deb27a3e"
   },
   "outputs": [
    {
     "data": {
      "image/png": "[encoded data removed]",
      "text/plain": [
       "<Figure size 432x288 with 1 Axes>"
      ]
     },
     "metadata": {},
     "output_type": "display_data"
    }
   ],
   "source": [
    "#calculate the percentage of each Country category.\n",
    "df_latest.Countries.value_counts(normalize=True)\n",
    "\n",
    "#plot the pie chart of Country categories\n",
    "df_latest.Countries.value_counts(normalize=True).plot.pie()\n",
    "plt.show()\n",
    "#Majority of the records belong to country 1"
   ]
  },
  {
   "cell_type": "code",
   "execution_count": null,
   "metadata": {
    "colab": {
     "base_uri": "https://localhost:8080/",
     "height": 248
    },
    "executionInfo": {
     "elapsed": 1829,
     "status": "ok",
     "timestamp": 1643465967111,
     "user": {
      "displayName": "Hari chandana",
      "photoUrl": "https://lh3.googleusercontent.com/a-/AOh14Ggw5Mxz3vw2JK72tq9cQj2vsDS_hk4IZ4hqfag8KA=s64",
      "userId": "14544941550889507247"
     },
     "user_tz": -330
    },
    "id": "L6f62lkYBrkW",
    "outputId": "90ff454d-bd9a-41e9-9e05-ea66996a9de7"
   },
   "outputs": [],
   "source": []
  },
  {
   "cell_type": "code",
   "execution_count": 297,
   "metadata": {
    "colab": {
     "base_uri": "https://localhost:8080/"
    },
    "executionInfo": {
     "elapsed": 79,
     "status": "ok",
     "timestamp": 1643465967112,
     "user": {
      "displayName": "Hari chandana",
      "photoUrl": "https://lh3.googleusercontent.com/a-/AOh14Ggw5Mxz3vw2JK72tq9cQj2vsDS_hk4IZ4hqfag8KA=s64",
      "userId": "14544941550889507247"
     },
     "user_tz": -330
    },
    "id": "Whoq5HDOokqh",
    "outputId": "240598d5-760d-4510-bb0d-751f2b6ae6b2"
   },
   "outputs": [
    {
     "data": {
      "text/plain": [
       "I      316\n",
       "II      40\n",
       "III     31\n",
       "IV      30\n",
       "V        8\n",
       "Name: Accident Level, dtype: int64"
      ]
     },
     "execution_count": 297,
     "metadata": {},
     "output_type": "execute_result"
    }
   ],
   "source": [
    "df_latest['Accident Level'].value_counts()"
   ]
  },
  {
   "cell_type": "code",
   "execution_count": null,
   "metadata": {
    "executionInfo": {
     "elapsed": 64,
     "status": "ok",
     "timestamp": 1643465967113,
     "user": {
      "displayName": "Hari chandana",
      "photoUrl": "https://lh3.googleusercontent.com/a-/AOh14Ggw5Mxz3vw2JK72tq9cQj2vsDS_hk4IZ4hqfag8KA=s64",
      "userId": "14544941550889507247"
     },
     "user_tz": -330
    },
    "id": "yoc4giDyCWjM"
   },
   "outputs": [],
   "source": []
  },
  {
   "cell_type": "code",
   "execution_count": 298,
   "metadata": {
    "executionInfo": {
     "elapsed": 51,
     "status": "ok",
     "timestamp": 1643465967115,
     "user": {
      "displayName": "Hari chandana",
      "photoUrl": "https://lh3.googleusercontent.com/a-/AOh14Ggw5Mxz3vw2JK72tq9cQj2vsDS_hk4IZ4hqfag8KA=s64",
      "userId": "14544941550889507247"
     },
     "user_tz": -330
    },
    "id": "Qq2Dk9ihWTLv"
   },
   "outputs": [],
   "source": [
    "Accident_Level = {\n",
    "    'I'   :   1,\n",
    "    'II'  :   2,\n",
    "    'III' :   3,\n",
    "    'IV'  :   4,\n",
    "    'V'   :   5\n",
    "}"
   ]
  },
  {
   "cell_type": "code",
   "execution_count": 299,
   "metadata": {
    "executionInfo": {
     "elapsed": 51,
     "status": "ok",
     "timestamp": 1643465967116,
     "user": {
      "displayName": "Hari chandana",
      "photoUrl": "https://lh3.googleusercontent.com/a-/AOh14Ggw5Mxz3vw2JK72tq9cQj2vsDS_hk4IZ4hqfag8KA=s64",
      "userId": "14544941550889507247"
     },
     "user_tz": -330
    },
    "id": "zJlPLeGrXDr3"
   },
   "outputs": [],
   "source": [
    "df_latest['Accident_Level'] = df_latest['Accident Level'].map(Accident_Level)\n",
    "#Converting the Roman numbers into numbers for out model"
   ]
  },
  {
   "cell_type": "code",
   "execution_count": 300,
   "metadata": {
    "colab": {
     "base_uri": "https://localhost:8080/"
    },
    "executionInfo": {
     "elapsed": 51,
     "status": "ok",
     "timestamp": 1643465967116,
     "user": {
      "displayName": "Hari chandana",
      "photoUrl": "https://lh3.googleusercontent.com/a-/AOh14Ggw5Mxz3vw2JK72tq9cQj2vsDS_hk4IZ4hqfag8KA=s64",
      "userId": "14544941550889507247"
     },
     "user_tz": -330
    },
    "id": "LRS2FyD7XLjQ",
    "outputId": "2ddf5b7d-f0db-43da-950a-489b503bbf06"
   },
   "outputs": [
    {
     "data": {
      "text/plain": [
       "1    316\n",
       "2     40\n",
       "3     31\n",
       "4     30\n",
       "5      8\n",
       "Name: Accident_Level, dtype: int64"
      ]
     },
     "execution_count": 300,
     "metadata": {},
     "output_type": "execute_result"
    }
   ],
   "source": [
    "df_latest['Accident_Level'].value_counts()"
   ]
  },
  {
   "cell_type": "code",
   "execution_count": null,
   "metadata": {
    "executionInfo": {
     "elapsed": 43,
     "status": "ok",
     "timestamp": 1643465967120,
     "user": {
      "displayName": "Hari chandana",
      "photoUrl": "https://lh3.googleusercontent.com/a-/AOh14Ggw5Mxz3vw2JK72tq9cQj2vsDS_hk4IZ4hqfag8KA=s64",
      "userId": "14544941550889507247"
     },
     "user_tz": -330
    },
    "id": "Sh2KVEu0wGUW"
   },
   "outputs": [],
   "source": []
  },
  {
   "cell_type": "code",
   "execution_count": 301,
   "metadata": {
    "executionInfo": {
     "elapsed": 43,
     "status": "ok",
     "timestamp": 1643465967121,
     "user": {
      "displayName": "Hari chandana",
      "photoUrl": "https://lh3.googleusercontent.com/a-/AOh14Ggw5Mxz3vw2JK72tq9cQj2vsDS_hk4IZ4hqfag8KA=s64",
      "userId": "14544941550889507247"
     },
     "user_tz": -330
    },
    "id": "c5V4f7dVwP0w"
   },
   "outputs": [],
   "source": [
    "#Cleaning up the data,removing stopwords,remove punctuation, converting them into tokens."
   ]
  },
  {
   "cell_type": "code",
   "execution_count": 302,
   "metadata": {
    "colab": {
     "base_uri": "https://localhost:8080/"
    },
    "executionInfo": {
     "elapsed": 44,
     "status": "ok",
     "timestamp": 1643465967123,
     "user": {
      "displayName": "Hari chandana",
      "photoUrl": "https://lh3.googleusercontent.com/a-/AOh14Ggw5Mxz3vw2JK72tq9cQj2vsDS_hk4IZ4hqfag8KA=s64",
      "userId": "14544941550889507247"
     },
     "user_tz": -330
    },
    "id": "AGnno6c0wSUW",
    "outputId": "9f1788b8-7e0e-4720-fc10-36850876ca75"
   },
   "outputs": [
    {
     "name": "stderr",
     "output_type": "stream",
     "text": [
      "[nltk_data] Downloading package stopwords to\n",
      "[nltk_data]     C:\\Users\\User\\AppData\\Roaming\\nltk_data...\n",
      "[nltk_data]   Package stopwords is already up-to-date!\n"
     ]
    }
   ],
   "source": [
    "import string\n",
    "import re\n",
    "import os\n",
    "import nltk\n",
    "nltk.download('stopwords')\n",
    "from nltk.tokenize import TweetTokenizer\n",
    "from nltk.corpus import stopwords, twitter_samples \n",
    "\n",
    "tweet_tokenizer = TweetTokenizer(preserve_case=False, strip_handles=True, reduce_len=True)\n",
    "\n",
    "stopwords_english = stopwords.words('english')\n",
    "\n",
    "\n",
    "def clean_text(text):\n",
    "    \n",
    "    # remove stock market tickers like $GE\n",
    "    text = re.sub(r'\\$\\w*', '', text)\n",
    "    #remove numbers\n",
    "    text = re.sub(r'\\d+', '', text)\n",
    "    # remove hyperlinks\n",
    "    text = re.sub(r'https?:\\/\\/.*[\\r\\n]*', '', text)\n",
    "    # remove hashtags\n",
    "    text = re.sub(r'#', '', text)\n",
    "    # tokenize tweets\n",
    "    tokenizer = TweetTokenizer(preserve_case=False, strip_handles=True, reduce_len=True)\n",
    "    text_tokens = tokenizer.tokenize(text)\n",
    "\n",
    "    text_clean = []\n",
    "    for word in text_tokens:\n",
    "        if (word not in stopwords_english and # remove stopwords\n",
    "            word not in string.punctuation): # remove punctuation\n",
    "            text_clean.append(word)\n",
    "    return text_clean"
   ]
  },
  {
   "cell_type": "code",
   "execution_count": 303,
   "metadata": {
    "colab": {
     "base_uri": "https://localhost:8080/",
     "height": 70
    },
    "executionInfo": {
     "elapsed": 38,
     "status": "ok",
     "timestamp": 1643465967124,
     "user": {
      "displayName": "Hari chandana",
      "photoUrl": "https://lh3.googleusercontent.com/a-/AOh14Ggw5Mxz3vw2JK72tq9cQj2vsDS_hk4IZ4hqfag8KA=s64",
      "userId": "14544941550889507247"
     },
     "user_tz": -330
    },
    "id": "5LQ-hhA4xR-i",
    "outputId": "6c93f162-5e83-4b68-88b8-d579b42eb7d2"
   },
   "outputs": [
    {
     "data": {
      "text/plain": [
       "'While removing the drill rod of the Jumbo 08 for maintenance, the supervisor proceeds to loosen the support of the intermediate centralizer to facilitate the removal, seeing this the mechanic supports one end on the drill of the equipment to pull with both hands the bar and accelerate the removal from this, at this moment the bar slides from its point of support and tightens the fingers of the mechanic between the drilling bar and the beam of the jumbo.'"
      ]
     },
     "execution_count": 303,
     "metadata": {},
     "output_type": "execute_result"
    }
   ],
   "source": [
    "df_latest['Description'][0]\n",
    "#Sample of Raw Description"
   ]
  },
  {
   "cell_type": "code",
   "execution_count": 304,
   "metadata": {
    "colab": {
     "base_uri": "https://localhost:8080/"
    },
    "executionInfo": {
     "elapsed": 37,
     "status": "ok",
     "timestamp": 1643465967124,
     "user": {
      "displayName": "Hari chandana",
      "photoUrl": "https://lh3.googleusercontent.com/a-/AOh14Ggw5Mxz3vw2JK72tq9cQj2vsDS_hk4IZ4hqfag8KA=s64",
      "userId": "14544941550889507247"
     },
     "user_tz": -330
    },
    "id": "txANhjAnxpKL",
    "outputId": "0d810e80-9a1f-4d9f-a489-a725191a4a79"
   },
   "outputs": [
    {
     "data": {
      "text/plain": [
       "['removing',\n",
       " 'drill',\n",
       " 'rod',\n",
       " 'jumbo',\n",
       " 'maintenance',\n",
       " 'supervisor',\n",
       " 'proceeds',\n",
       " 'loosen',\n",
       " 'support',\n",
       " 'intermediate',\n",
       " 'centralizer',\n",
       " 'facilitate',\n",
       " 'removal',\n",
       " 'seeing',\n",
       " 'mechanic',\n",
       " 'supports',\n",
       " 'one',\n",
       " 'end',\n",
       " 'drill',\n",
       " 'equipment',\n",
       " 'pull',\n",
       " 'hands',\n",
       " 'bar',\n",
       " 'accelerate',\n",
       " 'removal',\n",
       " 'moment',\n",
       " 'bar',\n",
       " 'slides',\n",
       " 'point',\n",
       " 'support',\n",
       " 'tightens',\n",
       " 'fingers',\n",
       " 'mechanic',\n",
       " 'drilling',\n",
       " 'bar',\n",
       " 'beam',\n",
       " 'jumbo']"
      ]
     },
     "execution_count": 304,
     "metadata": {},
     "output_type": "execute_result"
    }
   ],
   "source": [
    "b = clean_text(df_latest['Description'][0])\n",
    "b\n",
    "#Sample of pre-processed Description"
   ]
  },
  {
   "cell_type": "code",
   "execution_count": 305,
   "metadata": {
    "executionInfo": {
     "elapsed": 35,
     "status": "ok",
     "timestamp": 1643465967125,
     "user": {
      "displayName": "Hari chandana",
      "photoUrl": "https://lh3.googleusercontent.com/a-/AOh14Ggw5Mxz3vw2JK72tq9cQj2vsDS_hk4IZ4hqfag8KA=s64",
      "userId": "14544941550889507247"
     },
     "user_tz": -330
    },
    "id": "NLzkCrdUxx2i"
   },
   "outputs": [],
   "source": [
    "all_word = []\n",
    "\n",
    "for row in df_latest['Description']:\n",
    "    for word in clean_text(row):\n",
    "        all_word.append(word)"
   ]
  },
  {
   "cell_type": "code",
   "execution_count": 306,
   "metadata": {
    "colab": {
     "base_uri": "https://localhost:8080/"
    },
    "executionInfo": {
     "elapsed": 35,
     "status": "ok",
     "timestamp": 1643465967125,
     "user": {
      "displayName": "Hari chandana",
      "photoUrl": "https://lh3.googleusercontent.com/a-/AOh14Ggw5Mxz3vw2JK72tq9cQj2vsDS_hk4IZ4hqfag8KA=s64",
      "userId": "14544941550889507247"
     },
     "user_tz": -330
    },
    "id": "NWl2iRgDx2bC",
    "outputId": "99baca11-f866-41c1-f85a-4d28f6899843"
   },
   "outputs": [
    {
     "data": {
      "text/plain": [
       "14120"
      ]
     },
     "execution_count": 306,
     "metadata": {},
     "output_type": "execute_result"
    }
   ],
   "source": [
    "num_words=len(all_word)\n",
    "num_words\n",
    "#total number of words\n"
   ]
  },
  {
   "cell_type": "code",
   "execution_count": 307,
   "metadata": {},
   "outputs": [
    {
     "data": {
      "text/plain": [
       "<matplotlib.axes._subplots.AxesSubplot at 0x11c3f569e48>"
      ]
     },
     "execution_count": 307,
     "metadata": {},
     "output_type": "execute_result"
    },
    {
     "data": {
      "image/png": "[encoded data removed]",
      "text/plain": [
       "<Figure size 432x288 with 1 Axes>"
      ]
     },
     "metadata": {
      "needs_background": "light"
     },
     "output_type": "display_data"
    }
   ],
   "source": [
    "industry = Counter(df_latest[\"Industry Sector\"])\n",
    "df = pd.DataFrame.from_dict(industry, orient='index')\n",
    "df.plot(kind='bar')\n",
    "#Majority of the accidents seem to happen in the mining industry"
   ]
  },
  {
   "cell_type": "code",
   "execution_count": 308,
   "metadata": {
    "colab": {
     "base_uri": "https://localhost:8080/",
     "height": 664
    },
    "executionInfo": {
     "elapsed": 32,
     "status": "ok",
     "timestamp": 1643465967127,
     "user": {
      "displayName": "Hari chandana",
      "photoUrl": "https://lh3.googleusercontent.com/a-/AOh14Ggw5Mxz3vw2JK72tq9cQj2vsDS_hk4IZ4hqfag8KA=s64",
      "userId": "14544941550889507247"
     },
     "user_tz": -330
    },
    "id": "MLg0zjOU5DM8",
    "outputId": "bfe9a68e-09a5-41cf-8e7c-04398d5c70c8"
   },
   "outputs": [
    {
     "data": {
      "text/html": [
       "<div>\n",
       "<style scoped>\n",
       "    .dataframe tbody tr th:only-of-type {\n",
       "        vertical-align: middle;\n",
       "    }\n",
       "\n",
       "    .dataframe tbody tr th {\n",
       "        vertical-align: top;\n",
       "    }\n",
       "\n",
       "    .dataframe thead th {\n",
       "        text-align: right;\n",
       "    }\n",
       "</style>\n",
       "<table border=\"1\" class=\"dataframe\">\n",
       "  <thead>\n",
       "    <tr style=\"text-align: right;\">\n",
       "      <th></th>\n",
       "      <th>Year</th>\n",
       "      <th>Month</th>\n",
       "      <th>Date</th>\n",
       "      <th>Countries</th>\n",
       "      <th>Local</th>\n",
       "      <th>Industry Sector</th>\n",
       "      <th>Accident Level</th>\n",
       "      <th>Potential Accident Level</th>\n",
       "      <th>Genre</th>\n",
       "      <th>Employee or Third Party</th>\n",
       "      <th>Critical Risk</th>\n",
       "      <th>Description</th>\n",
       "      <th>Accident_Level</th>\n",
       "    </tr>\n",
       "  </thead>\n",
       "  <tbody>\n",
       "    <tr>\n",
       "      <th>0</th>\n",
       "      <td>2016</td>\n",
       "      <td>1</td>\n",
       "      <td>1</td>\n",
       "      <td>Country_01</td>\n",
       "      <td>Local_01</td>\n",
       "      <td>Mining</td>\n",
       "      <td>I</td>\n",
       "      <td>IV</td>\n",
       "      <td>Male</td>\n",
       "      <td>Third Party</td>\n",
       "      <td>Pressed</td>\n",
       "      <td>While removing the drill rod of the Jumbo 08 f...</td>\n",
       "      <td>1</td>\n",
       "    </tr>\n",
       "    <tr>\n",
       "      <th>1</th>\n",
       "      <td>2016</td>\n",
       "      <td>1</td>\n",
       "      <td>2</td>\n",
       "      <td>Country_02</td>\n",
       "      <td>Local_02</td>\n",
       "      <td>Mining</td>\n",
       "      <td>I</td>\n",
       "      <td>IV</td>\n",
       "      <td>Male</td>\n",
       "      <td>Employee</td>\n",
       "      <td>Pressurized Systems</td>\n",
       "      <td>During the activation of a sodium sulphide pum...</td>\n",
       "      <td>1</td>\n",
       "    </tr>\n",
       "    <tr>\n",
       "      <th>2</th>\n",
       "      <td>2016</td>\n",
       "      <td>1</td>\n",
       "      <td>6</td>\n",
       "      <td>Country_01</td>\n",
       "      <td>Local_03</td>\n",
       "      <td>Mining</td>\n",
       "      <td>I</td>\n",
       "      <td>III</td>\n",
       "      <td>Male</td>\n",
       "      <td>Third Party (Remote)</td>\n",
       "      <td>Manual Tools</td>\n",
       "      <td>In the sub-station MILPO located at level +170...</td>\n",
       "      <td>1</td>\n",
       "    </tr>\n",
       "    <tr>\n",
       "      <th>3</th>\n",
       "      <td>2016</td>\n",
       "      <td>1</td>\n",
       "      <td>8</td>\n",
       "      <td>Country_01</td>\n",
       "      <td>Local_04</td>\n",
       "      <td>Mining</td>\n",
       "      <td>I</td>\n",
       "      <td>I</td>\n",
       "      <td>Male</td>\n",
       "      <td>Third Party</td>\n",
       "      <td>Others</td>\n",
       "      <td>Being 9:45 am. approximately in the Nv. 1880 C...</td>\n",
       "      <td>1</td>\n",
       "    </tr>\n",
       "    <tr>\n",
       "      <th>4</th>\n",
       "      <td>2016</td>\n",
       "      <td>1</td>\n",
       "      <td>10</td>\n",
       "      <td>Country_01</td>\n",
       "      <td>Local_04</td>\n",
       "      <td>Mining</td>\n",
       "      <td>IV</td>\n",
       "      <td>IV</td>\n",
       "      <td>Male</td>\n",
       "      <td>Third Party</td>\n",
       "      <td>Others</td>\n",
       "      <td>Approximately at 11:45 a.m. in circumstances t...</td>\n",
       "      <td>4</td>\n",
       "    </tr>\n",
       "  </tbody>\n",
       "</table>\n",
       "</div>"
      ],
      "text/plain": [
       "   Year  Month  Date   Countries     Local Industry Sector Accident Level  \\\n",
       "0  2016      1     1  Country_01  Local_01          Mining              I   \n",
       "1  2016      1     2  Country_02  Local_02          Mining              I   \n",
       "2  2016      1     6  Country_01  Local_03          Mining              I   \n",
       "3  2016      1     8  Country_01  Local_04          Mining              I   \n",
       "4  2016      1    10  Country_01  Local_04          Mining             IV   \n",
       "\n",
       "  Potential Accident Level Genre Employee or Third Party        Critical Risk  \\\n",
       "0                       IV  Male             Third Party              Pressed   \n",
       "1                       IV  Male                Employee  Pressurized Systems   \n",
       "2                      III  Male    Third Party (Remote)         Manual Tools   \n",
       "3                        I  Male             Third Party               Others   \n",
       "4                       IV  Male             Third Party               Others   \n",
       "\n",
       "                                         Description  Accident_Level  \n",
       "0  While removing the drill rod of the Jumbo 08 f...               1  \n",
       "1  During the activation of a sodium sulphide pum...               1  \n",
       "2  In the sub-station MILPO located at level +170...               1  \n",
       "3  Being 9:45 am. approximately in the Nv. 1880 C...               1  \n",
       "4  Approximately at 11:45 a.m. in circumstances t...               4  "
      ]
     },
     "execution_count": 308,
     "metadata": {},
     "output_type": "execute_result"
    }
   ],
   "source": [
    "df_latest.head()"
   ]
  },
  {
   "cell_type": "code",
   "execution_count": 309,
   "metadata": {},
   "outputs": [
    {
     "data": {
      "image/png": "[encoded data removed]",
      "text/plain": [
       "<Figure size 1080x720 with 1 Axes>"
      ]
     },
     "metadata": {
      "needs_background": "light"
     },
     "output_type": "display_data"
    }
   ],
   "source": [
    "from wordcloud import WordCloud\n",
    "\n",
    "desc = df_latest['Description']\n",
    "wordcloud = WordCloud(width = 1500, height = 800, random_state = 1, background_color='black', min_font_size=5, max_words=300, collocations=False).generate(str(desc))\n",
    "plt.figure(figsize=(15,10))\n",
    "plt.imshow(wordcloud)\n",
    "plt.axis('off')\n",
    "plt.show()\n",
    "#Most used words are maintainance, accident, employee, euipment, infrastructure, which can be see in the word cloud"
   ]
  },
  {
   "cell_type": "code",
   "execution_count": null,
   "metadata": {},
   "outputs": [],
   "source": []
  },
  {
   "cell_type": "code",
   "execution_count": 310,
   "metadata": {
    "executionInfo": {
     "elapsed": 32,
     "status": "ok",
     "timestamp": 1643465967127,
     "user": {
      "displayName": "Hari chandana",
      "photoUrl": "https://lh3.googleusercontent.com/a-/AOh14Ggw5Mxz3vw2JK72tq9cQj2vsDS_hk4IZ4hqfag8KA=s64",
      "userId": "14544941550889507247"
     },
     "user_tz": -330
    },
    "id": "-0hqDKA3TECG"
   },
   "outputs": [],
   "source": [
    "# http://nlp.stanford.edu/data/glove.6B.zip"
   ]
  },
  {
   "cell_type": "code",
   "execution_count": 311,
   "metadata": {
    "executionInfo": {
     "elapsed": 32,
     "status": "ok",
     "timestamp": 1643465967128,
     "user": {
      "displayName": "Hari chandana",
      "photoUrl": "https://lh3.googleusercontent.com/a-/AOh14Ggw5Mxz3vw2JK72tq9cQj2vsDS_hk4IZ4hqfag8KA=s64",
      "userId": "14544941550889507247"
     },
     "user_tz": -330
    },
    "id": "iyl5yOFATE8f"
   },
   "outputs": [],
   "source": [
    "#!unzip glove*.zip"
   ]
  },
  {
   "cell_type": "code",
   "execution_count": 312,
   "metadata": {
    "colab": {
     "base_uri": "https://localhost:8080/"
    },
    "executionInfo": {
     "elapsed": 44417,
     "status": "ok",
     "timestamp": 1643466011513,
     "user": {
      "displayName": "Hari chandana",
      "photoUrl": "https://lh3.googleusercontent.com/a-/AOh14Ggw5Mxz3vw2JK72tq9cQj2vsDS_hk4IZ4hqfag8KA=s64",
      "userId": "14544941550889507247"
     },
     "user_tz": -330
    },
    "id": "KJ4gww6US7xL",
    "outputId": "4301ceb8-b258-4c7f-ae9d-b5d384fc4d86"
   },
   "outputs": [],
   "source": [
    "from gensim.scripts.glove2word2vec import glove2word2vec\n",
    "glove_input_file = 'glove.6B.300d.txt'\n",
    "word2vec_output_file = 'word2vec.txt'\n",
    "# The first step is to convert the GloVe file format to the word2vec file format. \n",
    "# The only difference is the addition of a small header line. This can be done by calling the \n",
    "# glove2word2vec() function.\n",
    "\n",
    "glove2word2vec(glove_input_file, word2vec_output_file)"
   ]
  },
  {
   "cell_type": "code",
   "execution_count": 313,
   "metadata": {
    "executionInfo": {
     "elapsed": 134624,
     "status": "ok",
     "timestamp": 1643466146135,
     "user": {
      "displayName": "Hari chandana",
      "photoUrl": "https://lh3.googleusercontent.com/a-/AOh14Ggw5Mxz3vw2JK72tq9cQj2vsDS_hk4IZ4hqfag8KA=s64",
      "userId": "14544941550889507247"
     },
     "user_tz": -330
    },
    "id": "z7Helh4vTZTd"
   },
   "outputs": [],
   "source": [
    "from gensim.models import KeyedVectors\n",
    "model = KeyedVectors.load_word2vec_format(word2vec_output_file, binary=False)\n"
   ]
  },
  {
   "cell_type": "code",
   "execution_count": 314,
   "metadata": {
    "executionInfo": {
     "elapsed": 33,
     "status": "ok",
     "timestamp": 1643466146136,
     "user": {
      "displayName": "Hari chandana",
      "photoUrl": "https://lh3.googleusercontent.com/a-/AOh14Ggw5Mxz3vw2JK72tq9cQj2vsDS_hk4IZ4hqfag8KA=s64",
      "userId": "14544941550889507247"
     },
     "user_tz": -330
    },
    "id": "np02CpOD_GM0"
   },
   "outputs": [],
   "source": [
    "#Converting Description into GloVe embeddings\n",
    "import numpy as np\n",
    "glove_list = list()\n",
    "for row in df_latest['Description']:\n",
    "    sentence = np.zeros(300)\n",
    "    count = 0\n",
    "    for word in clean_text(row):\n",
    "        try:\n",
    "            sentence += model[word]\n",
    "            count += 1\n",
    "        except KeyError:\n",
    "            continue\n",
    "    glove_list.append(sentence / count)"
   ]
  },
  {
   "cell_type": "code",
   "execution_count": 315,
   "metadata": {
    "executionInfo": {
     "elapsed": 18,
     "status": "ok",
     "timestamp": 1643466146719,
     "user": {
      "displayName": "Hari chandana",
      "photoUrl": "https://lh3.googleusercontent.com/a-/AOh14Ggw5Mxz3vw2JK72tq9cQj2vsDS_hk4IZ4hqfag8KA=s64",
      "userId": "14544941550889507247"
     },
     "user_tz": -330
    },
    "id": "icodvj0d_fTk"
   },
   "outputs": [],
   "source": [
    "acc = []\n",
    "mod = []\n",
    "def get_accuracy(y,x):\n",
    "    global t\n",
    "    acc.append(x)\n",
    "    mod.append(y)\n",
    "    temp=pd.DataFrame(mod,columns=['Model'])\n",
    "    temp1 = pd.DataFrame(acc,columns=['accuracy'])\n",
    "    t =temp.join(temp1)\n",
    "    print(t)\n",
    "#Creating a function to store and print model accuracies"
   ]
  },
  {
   "cell_type": "markdown",
   "metadata": {},
   "source": [
    "### Model Building"
   ]
  },
  {
   "cell_type": "code",
   "execution_count": 316,
   "metadata": {},
   "outputs": [],
   "source": [
    "X = df_latest.Description\n",
    "y = df_latest['Accident_Level']\n",
    "X_train, X_test, y_train, y_test = train_test_split(X, y, test_size=0.2)\n",
    "tf_vectorizer = TfidfVectorizer() \n",
    "cv_vectorizer = CountVectorizer() "
   ]
  },
  {
   "cell_type": "code",
   "execution_count": 317,
   "metadata": {},
   "outputs": [],
   "source": [
    "X_train_tf = tf_vectorizer.fit_transform(X_train)\n",
    "X_train_cv = cv_vectorizer.fit_transform(X_train)"
   ]
  },
  {
   "cell_type": "code",
   "execution_count": 318,
   "metadata": {},
   "outputs": [],
   "source": [
    "X_test_tf = tf_vectorizer.transform(X_test)\n",
    "X_test_cv = cv_vectorizer.transform(X_test)\n"
   ]
  },
  {
   "cell_type": "code",
   "execution_count": 319,
   "metadata": {},
   "outputs": [
    {
     "name": "stdout",
     "output_type": "stream",
     "text": [
      "n_samples: 340, n_features: 3022\n",
      "n_samples: 85, n_features: 3022\n"
     ]
    }
   ],
   "source": [
    "print(\"n_samples: %d, n_features: %d\" % X_train_tf.shape)\n",
    "print(\"n_samples: %d, n_features: %d\" % X_test_tf.shape)"
   ]
  },
  {
   "cell_type": "code",
   "execution_count": 320,
   "metadata": {},
   "outputs": [
    {
     "data": {
      "text/plain": [
       "MultinomialNB()"
      ]
     },
     "execution_count": 320,
     "metadata": {},
     "output_type": "execute_result"
    }
   ],
   "source": [
    "naive_bayes_classifier_tf = MultinomialNB()\n",
    "naive_bayes_classifier_cv = MultinomialNB()\n",
    "naive_bayes_classifier_tf.fit(X_train_tf, y_train)\n",
    "naive_bayes_classifier_cv.fit(X_train_cv, y_train)\n",
    "\n",
    "#naive bayes with TfidfVectorizer and CountVectorizer"
   ]
  },
  {
   "cell_type": "code",
   "execution_count": 321,
   "metadata": {},
   "outputs": [
    {
     "name": "stdout",
     "output_type": "stream",
     "text": [
      "                            Model  accuracy\n",
      "0  tf_vectorizer with naive_bayes  0.717647\n"
     ]
    }
   ],
   "source": [
    "y_pred_tf = naive_bayes_classifier_tf.predict(X_test_tf)\n",
    "y_pred_cv = naive_bayes_classifier_cv.predict(X_test_cv)\n",
    "\n",
    "\n",
    "\n",
    "# computing the accuracins of tf and cv\n",
    "score_tf = metrics.accuracy_score(y_test, y_pred_tf)\n",
    "score_cv = metrics.accuracy_score(y_test, y_pred_cv)\n",
    "get_accuracy('tf_vectorizer with naive_bayes',naive_bayes_classifier_tf.score(X_test_tf,y_test))\n"
   ]
  },
  {
   "cell_type": "code",
   "execution_count": 322,
   "metadata": {},
   "outputs": [
    {
     "name": "stdout",
     "output_type": "stream",
     "text": [
      "                             Model  accuracy\n",
      "0   tf_vectorizer with naive_bayes  0.717647\n",
      "1  cv_vectorizer with naive_bayes   0.705882\n"
     ]
    }
   ],
   "source": [
    "get_accuracy('cv_vectorizer with naive_bayes ',naive_bayes_classifier_cv.score(X_test_cv,y_test))\n"
   ]
  },
  {
   "cell_type": "code",
   "execution_count": 323,
   "metadata": {},
   "outputs": [],
   "source": [
    "SVC_tf = SVC()\n",
    "SVC_cv = SVC()\n",
    "#trying out with SVC"
   ]
  },
  {
   "cell_type": "code",
   "execution_count": 324,
   "metadata": {},
   "outputs": [
    {
     "data": {
      "text/plain": [
       "SVC()"
      ]
     },
     "execution_count": 324,
     "metadata": {},
     "output_type": "execute_result"
    }
   ],
   "source": [
    "SVC_tf.fit(X_train_tf, y_train)\n",
    "SVC_cv.fit(X_train_cv, y_train)"
   ]
  },
  {
   "cell_type": "code",
   "execution_count": 325,
   "metadata": {},
   "outputs": [
    {
     "name": "stdout",
     "output_type": "stream",
     "text": [
      "tf_vectorizer with SVC accuracy:   0.718\n",
      "cv_vectorizer with SVC accuracy:   0.718\n",
      "                             Model  accuracy\n",
      "0   tf_vectorizer with naive_bayes  0.717647\n",
      "1  cv_vectorizer with naive_bayes   0.705882\n",
      "2           tf_vectorizer with SVC  0.717647\n"
     ]
    }
   ],
   "source": [
    "y_pred_tf_SVC = SVC_tf.predict(X_test_tf)\n",
    "y_pred_cv_SVC = SVC_cv.predict(X_test_cv)\n",
    "\n",
    "\n",
    "\n",
    "# computing the accuracies of tf and cv\n",
    "score_tf_SVC = metrics.accuracy_score(y_test, y_pred_tf_SVC)\n",
    "score_cv_SVC = metrics.accuracy_score(y_test, y_pred_cv_SVC)\n",
    "print(\"tf_vectorizer with SVC accuracy:   %0.3f\" % score_tf_SVC)\n",
    "print(\"cv_vectorizer with SVC accuracy:   %0.3f\" % score_cv_SVC)\n",
    "\n",
    "get_accuracy('tf_vectorizer with SVC',SVC_tf.score(X_test_tf,y_test))\n"
   ]
  },
  {
   "cell_type": "code",
   "execution_count": 326,
   "metadata": {},
   "outputs": [
    {
     "name": "stdout",
     "output_type": "stream",
     "text": [
      "                             Model  accuracy\n",
      "0   tf_vectorizer with naive_bayes  0.717647\n",
      "1  cv_vectorizer with naive_bayes   0.705882\n",
      "2           tf_vectorizer with SVC  0.717647\n",
      "3           cv_vectorizer with SVC  0.717647\n"
     ]
    }
   ],
   "source": [
    "get_accuracy('cv_vectorizer with SVC',SVC_tf.score(X_test_cv,y_test))\n"
   ]
  },
  {
   "cell_type": "code",
   "execution_count": 327,
   "metadata": {},
   "outputs": [],
   "source": [
    "KNeighborsClassifier_tf = KNeighborsClassifier()\n",
    "KNeighborsClassifier_cv = KNeighborsClassifier()\n",
    "#trying with KNN"
   ]
  },
  {
   "cell_type": "code",
   "execution_count": 328,
   "metadata": {},
   "outputs": [
    {
     "data": {
      "text/plain": [
       "KNeighborsClassifier()"
      ]
     },
     "execution_count": 328,
     "metadata": {},
     "output_type": "execute_result"
    }
   ],
   "source": [
    "KNeighborsClassifier_tf.fit(X_train_tf, y_train)\n",
    "KNeighborsClassifier_cv.fit(X_train_cv, y_train)"
   ]
  },
  {
   "cell_type": "code",
   "execution_count": 329,
   "metadata": {},
   "outputs": [
    {
     "name": "stdout",
     "output_type": "stream",
     "text": [
      "tf_vectorizer with KNeighborsClassifier accuracy:   0.694\n",
      "cv_vectorizer with KNeighborsClassifier accuracy:   0.671\n",
      "                                     Model  accuracy\n",
      "0           tf_vectorizer with naive_bayes  0.717647\n",
      "1          cv_vectorizer with naive_bayes   0.705882\n",
      "2                   tf_vectorizer with SVC  0.717647\n",
      "3                   cv_vectorizer with SVC  0.717647\n",
      "4  tf_vectorizer with KNeighborsClassifier  0.694118\n"
     ]
    }
   ],
   "source": [
    "y_pred_tf_knn = KNeighborsClassifier_tf.predict(X_test_tf)\n",
    "y_pred_cv_knn = KNeighborsClassifier_cv.predict(X_test_cv)\n",
    "\n",
    "\n",
    "\n",
    "# computing the accuracins of tf and cv\n",
    "score_tf_knn = metrics.accuracy_score(y_test, y_pred_tf_knn)\n",
    "score_cv_knn = metrics.accuracy_score(y_test, y_pred_cv_knn)\n",
    "print(\"tf_vectorizer with KNeighborsClassifier accuracy:   %0.3f\" % score_tf_knn)\n",
    "print(\"cv_vectorizer with KNeighborsClassifier accuracy:   %0.3f\" % score_cv_knn)\n",
    "get_accuracy('tf_vectorizer with KNeighborsClassifier',KNeighborsClassifier_tf.score(X_test_tf,y_test))\n"
   ]
  },
  {
   "cell_type": "code",
   "execution_count": 330,
   "metadata": {},
   "outputs": [
    {
     "name": "stdout",
     "output_type": "stream",
     "text": [
      "                                     Model  accuracy\n",
      "0           tf_vectorizer with naive_bayes  0.717647\n",
      "1          cv_vectorizer with naive_bayes   0.705882\n",
      "2                   tf_vectorizer with SVC  0.717647\n",
      "3                   cv_vectorizer with SVC  0.717647\n",
      "4  tf_vectorizer with KNeighborsClassifier  0.694118\n",
      "5  cv_vectorizer with KNeighborsClassifier  0.670588\n"
     ]
    }
   ],
   "source": [
    "get_accuracy('cv_vectorizer with KNeighborsClassifier',KNeighborsClassifier_cv.score(X_test_cv,y_test))"
   ]
  },
  {
   "cell_type": "code",
   "execution_count": null,
   "metadata": {},
   "outputs": [],
   "source": []
  },
  {
   "cell_type": "code",
   "execution_count": 331,
   "metadata": {},
   "outputs": [],
   "source": [
    "#From her we will be using glove with word2vec"
   ]
  },
  {
   "cell_type": "code",
   "execution_count": 332,
   "metadata": {},
   "outputs": [],
   "source": [
    "y = df_latest['Accident_Level']\n",
    "#Our target variable is Accident Level\n",
    "\n",
    "X = np.array(glove_list)\n",
    "\n",
    "from sklearn.model_selection import train_test_split\n",
    "X_tr, X_te, y_tr, y_te = train_test_split(np.array(glove_list), y, test_size=0.20,random_state=42)\n",
    "#Splitting our dataset into train and test with 80:20 ratio"
   ]
  },
  {
   "cell_type": "code",
   "execution_count": 333,
   "metadata": {
    "executionInfo": {
     "elapsed": 16,
     "status": "ok",
     "timestamp": 1643466146720,
     "user": {
      "displayName": "Hari chandana",
      "photoUrl": "https://lh3.googleusercontent.com/a-/AOh14Ggw5Mxz3vw2JK72tq9cQj2vsDS_hk4IZ4hqfag8KA=s64",
      "userId": "14544941550889507247"
     },
     "user_tz": -330
    },
    "id": "SkMrEOZa_jjt"
   },
   "outputs": [],
   "source": [
    "from sklearn.ensemble import  RandomForestClassifier\n",
    "rf =  RandomForestClassifier()"
   ]
  },
  {
   "cell_type": "code",
   "execution_count": null,
   "metadata": {},
   "outputs": [],
   "source": []
  },
  {
   "cell_type": "code",
   "execution_count": 334,
   "metadata": {
    "colab": {
     "base_uri": "https://localhost:8080/"
    },
    "executionInfo": {
     "elapsed": 374,
     "status": "ok",
     "timestamp": 1643466147079,
     "user": {
      "displayName": "Hari chandana",
      "photoUrl": "https://lh3.googleusercontent.com/a-/AOh14Ggw5Mxz3vw2JK72tq9cQj2vsDS_hk4IZ4hqfag8KA=s64",
      "userId": "14544941550889507247"
     },
     "user_tz": -330
    },
    "id": "MP2V2s0N_mKK",
    "outputId": "005d1a39-63a2-4dfa-9938-333e046ba35a"
   },
   "outputs": [
    {
     "data": {
      "text/plain": [
       "RandomForestClassifier()"
      ]
     },
     "execution_count": 334,
     "metadata": {},
     "output_type": "execute_result"
    }
   ],
   "source": [
    "rf.fit(X_tr,y_tr)"
   ]
  },
  {
   "cell_type": "code",
   "execution_count": 335,
   "metadata": {
    "colab": {
     "base_uri": "https://localhost:8080/"
    },
    "executionInfo": {
     "elapsed": 14,
     "status": "ok",
     "timestamp": 1643466147080,
     "user": {
      "displayName": "Hari chandana",
      "photoUrl": "https://lh3.googleusercontent.com/a-/AOh14Ggw5Mxz3vw2JK72tq9cQj2vsDS_hk4IZ4hqfag8KA=s64",
      "userId": "14544941550889507247"
     },
     "user_tz": -330
    },
    "id": "3IOaNNzi_oev",
    "outputId": "63153a18-171a-4e3a-ea4e-9df78f434bb5"
   },
   "outputs": [
    {
     "name": "stdout",
     "output_type": "stream",
     "text": [
      "0.9941176470588236\n",
      "0.8\n"
     ]
    }
   ],
   "source": [
    "print(rf.score(X_tr,y_tr))\n",
    "print(rf.score(X_te,y_te))"
   ]
  },
  {
   "cell_type": "code",
   "execution_count": 336,
   "metadata": {
    "colab": {
     "base_uri": "https://localhost:8080/"
    },
    "executionInfo": {
     "elapsed": 9,
     "status": "ok",
     "timestamp": 1643466147080,
     "user": {
      "displayName": "Hari chandana",
      "photoUrl": "https://lh3.googleusercontent.com/a-/AOh14Ggw5Mxz3vw2JK72tq9cQj2vsDS_hk4IZ4hqfag8KA=s64",
      "userId": "14544941550889507247"
     },
     "user_tz": -330
    },
    "id": "sFFA-rIP_rkq",
    "outputId": "022f3a98-8bd6-4849-9606-faf13db7c82d"
   },
   "outputs": [
    {
     "name": "stdout",
     "output_type": "stream",
     "text": [
      "                                     Model  accuracy\n",
      "0           tf_vectorizer with naive_bayes  0.717647\n",
      "1          cv_vectorizer with naive_bayes   0.705882\n",
      "2                   tf_vectorizer with SVC  0.717647\n",
      "3                   cv_vectorizer with SVC  0.717647\n",
      "4  tf_vectorizer with KNeighborsClassifier  0.694118\n",
      "5  cv_vectorizer with KNeighborsClassifier  0.670588\n",
      "6        glove with RandomForestClassifier  0.800000\n"
     ]
    }
   ],
   "source": [
    "get_accuracy('glove with RandomForestClassifier',rf.score(X_te,y_te))"
   ]
  },
  {
   "cell_type": "code",
   "execution_count": 337,
   "metadata": {
    "executionInfo": {
     "elapsed": 11,
     "status": "ok",
     "timestamp": 1643466148392,
     "user": {
      "displayName": "Hari chandana",
      "photoUrl": "https://lh3.googleusercontent.com/a-/AOh14Ggw5Mxz3vw2JK72tq9cQj2vsDS_hk4IZ4hqfag8KA=s64",
      "userId": "14544941550889507247"
     },
     "user_tz": -330
    },
    "id": "Jn3dykz88wwX"
   },
   "outputs": [],
   "source": [
    "from sklearn.ensemble import BaggingClassifier\n",
    "bgcl=BaggingClassifier()\n"
   ]
  },
  {
   "cell_type": "markdown",
   "metadata": {
    "id": "3pxJYXKh86xL"
   },
   "source": []
  },
  {
   "cell_type": "code",
   "execution_count": 338,
   "metadata": {
    "colab": {
     "base_uri": "https://localhost:8080/"
    },
    "executionInfo": {
     "elapsed": 411,
     "status": "ok",
     "timestamp": 1643466148792,
     "user": {
      "displayName": "Hari chandana",
      "photoUrl": "https://lh3.googleusercontent.com/a-/AOh14Ggw5Mxz3vw2JK72tq9cQj2vsDS_hk4IZ4hqfag8KA=s64",
      "userId": "14544941550889507247"
     },
     "user_tz": -330
    },
    "id": "xCf7P05W87cA",
    "outputId": "aed1e5ed-f985-4859-e0a9-3fae54e3302d"
   },
   "outputs": [
    {
     "data": {
      "text/plain": [
       "BaggingClassifier()"
      ]
     },
     "execution_count": 338,
     "metadata": {},
     "output_type": "execute_result"
    }
   ],
   "source": [
    "bgcl.fit(X_tr,y_tr)\n"
   ]
  },
  {
   "cell_type": "code",
   "execution_count": 339,
   "metadata": {
    "colab": {
     "base_uri": "https://localhost:8080/"
    },
    "executionInfo": {
     "elapsed": 24,
     "status": "ok",
     "timestamp": 1643466148793,
     "user": {
      "displayName": "Hari chandana",
      "photoUrl": "https://lh3.googleusercontent.com/a-/AOh14Ggw5Mxz3vw2JK72tq9cQj2vsDS_hk4IZ4hqfag8KA=s64",
      "userId": "14544941550889507247"
     },
     "user_tz": -330
    },
    "id": "phRGZZQM8_SL",
    "outputId": "70a58e22-ef77-4f3d-9b96-2a48dbae5498"
   },
   "outputs": [
    {
     "data": {
      "text/plain": [
       "0.9588235294117647"
      ]
     },
     "execution_count": 339,
     "metadata": {},
     "output_type": "execute_result"
    }
   ],
   "source": [
    "bgcl.score(X_tr,y_tr)"
   ]
  },
  {
   "cell_type": "code",
   "execution_count": 340,
   "metadata": {
    "colab": {
     "base_uri": "https://localhost:8080/"
    },
    "executionInfo": {
     "elapsed": 19,
     "status": "ok",
     "timestamp": 1643466148794,
     "user": {
      "displayName": "Hari chandana",
      "photoUrl": "https://lh3.googleusercontent.com/a-/AOh14Ggw5Mxz3vw2JK72tq9cQj2vsDS_hk4IZ4hqfag8KA=s64",
      "userId": "14544941550889507247"
     },
     "user_tz": -330
    },
    "id": "iviC4FFZ9G_b",
    "outputId": "c9d11ee5-2f13-4c9b-c4c4-c2b63b92f51d"
   },
   "outputs": [
    {
     "data": {
      "text/plain": [
       "0.7764705882352941"
      ]
     },
     "execution_count": 340,
     "metadata": {},
     "output_type": "execute_result"
    }
   ],
   "source": [
    "bgcl.score(X_te,y_te)"
   ]
  },
  {
   "cell_type": "code",
   "execution_count": 341,
   "metadata": {
    "colab": {
     "base_uri": "https://localhost:8080/"
    },
    "executionInfo": {
     "elapsed": 14,
     "status": "ok",
     "timestamp": 1643466148795,
     "user": {
      "displayName": "Hari chandana",
      "photoUrl": "https://lh3.googleusercontent.com/a-/AOh14Ggw5Mxz3vw2JK72tq9cQj2vsDS_hk4IZ4hqfag8KA=s64",
      "userId": "14544941550889507247"
     },
     "user_tz": -330
    },
    "id": "YbuHT1yq9LG1",
    "outputId": "21a0725f-2e99-464d-dc6a-ca78f675da75"
   },
   "outputs": [
    {
     "name": "stdout",
     "output_type": "stream",
     "text": [
      "                                     Model  accuracy\n",
      "0           tf_vectorizer with naive_bayes  0.717647\n",
      "1          cv_vectorizer with naive_bayes   0.705882\n",
      "2                   tf_vectorizer with SVC  0.717647\n",
      "3                   cv_vectorizer with SVC  0.717647\n",
      "4  tf_vectorizer with KNeighborsClassifier  0.694118\n",
      "5  cv_vectorizer with KNeighborsClassifier  0.670588\n",
      "6        glove with RandomForestClassifier  0.800000\n",
      "7             golve with BaggingClassifier  0.776471\n"
     ]
    }
   ],
   "source": [
    "get_accuracy('golve with BaggingClassifier',bgcl.score(X_te,y_te))"
   ]
  },
  {
   "cell_type": "code",
   "execution_count": 342,
   "metadata": {},
   "outputs": [],
   "source": [
    "pred = bgcl.predict(X_te)\n",
    "pred = pred.astype(int)\n"
   ]
  },
  {
   "cell_type": "code",
   "execution_count": 343,
   "metadata": {
    "executionInfo": {
     "elapsed": 8,
     "status": "ok",
     "timestamp": 1643466148795,
     "user": {
      "displayName": "Hari chandana",
      "photoUrl": "https://lh3.googleusercontent.com/a-/AOh14Ggw5Mxz3vw2JK72tq9cQj2vsDS_hk4IZ4hqfag8KA=s64",
      "userId": "14544941550889507247"
     },
     "user_tz": -330
    },
    "id": "NnA89y8q9Q0d"
   },
   "outputs": [
    {
     "name": "stdout",
     "output_type": "stream",
     "text": [
      "              precision    recall  f1-score   support\n",
      "\n",
      "           1       0.80      0.96      0.87        68\n",
      "           2       0.25      0.17      0.20         6\n",
      "           3       0.00      0.00      0.00         5\n",
      "           4       0.00      0.00      0.00         4\n",
      "           5       0.00      0.00      0.00         2\n",
      "\n",
      "    accuracy                           0.78        85\n",
      "   macro avg       0.21      0.22      0.21        85\n",
      "weighted avg       0.66      0.78      0.71        85\n",
      "\n"
     ]
    }
   ],
   "source": [
    "print(classification_report(y_te, pred))\n"
   ]
  },
  {
   "cell_type": "code",
   "execution_count": 344,
   "metadata": {
    "colab": {
     "base_uri": "https://localhost:8080/"
    },
    "executionInfo": {
     "elapsed": 30717,
     "status": "ok",
     "timestamp": 1643466179505,
     "user": {
      "displayName": "Hari chandana",
      "photoUrl": "https://lh3.googleusercontent.com/a-/AOh14Ggw5Mxz3vw2JK72tq9cQj2vsDS_hk4IZ4hqfag8KA=s64",
      "userId": "14544941550889507247"
     },
     "user_tz": -330
    },
    "id": "o-RMhb26KFhI",
    "outputId": "2cb5de0e-0ec6-4e26-a8e7-09157fc96b2c"
   },
   "outputs": [
    {
     "name": "stdout",
     "output_type": "stream",
     "text": [
      "Number of unique words: 2852\n"
     ]
    },
    {
     "data": {
      "text/plain": [
       "(14120, 300)"
      ]
     },
     "execution_count": 344,
     "metadata": {},
     "output_type": "execute_result"
    }
   ],
   "source": [
    "from keras.preprocessing.text import Tokenizer\n",
    "from keras.preprocessing.sequence import pad_sequences\n",
    "X = df_latest['Description'].values\n",
    "y = df_latest['Accident_Level'].values\n",
    "X_train, X_test, y_train, y_test = train_test_split(X, y, test_size=.3, random_state=20)\n",
    "\n",
    "max_len = 32\n",
    "tokenizer = Tokenizer(num_words)\n",
    "tokenizer.fit_on_texts(X_train)\n",
    "\n",
    "X_train = tokenizer.texts_to_sequences(X_train)\n",
    "X_train = pad_sequences(X_train, maxlen=max_len, truncating='post', padding='post')\n",
    "\n",
    "X_test = tokenizer.texts_to_sequences(X_test)\n",
    "X_test = pad_sequences(X_test, maxlen=max_len, truncating='post', padding='post')\n",
    "\n",
    "word_index = tokenizer.word_index\n",
    "print(\"Number of unique words: {}\".format(len(word_index)))\n",
    "\n",
    "embedding = {}\n",
    "with open(\"glove.6B.300d.txt\", encoding='utf-8') as file:\n",
    "    for line in file:\n",
    "        values = line.split()\n",
    "        word = values[0]\n",
    "        vectors = np.asarray(values[1:], 'float32')\n",
    "        embedding[word] = vectors\n",
    "file.close()\n",
    "\n",
    "embedding_matrix = np.zeros((num_words, 300))\n",
    "for i, word in tokenizer.index_word.items():\n",
    "    if i < (num_words+1):\n",
    "        vector = embedding.get(word)\n",
    "        if vector is not None:\n",
    "            embedding_matrix[i] = vector\n",
    "\n",
    "embedding_matrix.shape"
   ]
  },
  {
   "cell_type": "code",
   "execution_count": 345,
   "metadata": {
    "colab": {
     "base_uri": "https://localhost:8080/"
    },
    "executionInfo": {
     "elapsed": 9,
     "status": "ok",
     "timestamp": 1643466179506,
     "user": {
      "displayName": "Hari chandana",
      "photoUrl": "https://lh3.googleusercontent.com/a-/AOh14Ggw5Mxz3vw2JK72tq9cQj2vsDS_hk4IZ4hqfag8KA=s64",
      "userId": "14544941550889507247"
     },
     "user_tz": -330
    },
    "id": "oQdq6ENEKO4b",
    "outputId": "2d180558-ed24-414d-f5de-992ace05250c"
   },
   "outputs": [
    {
     "name": "stdout",
     "output_type": "stream",
     "text": [
      "(297, 32) (297,)\n",
      "(128, 32) (128,)\n"
     ]
    }
   ],
   "source": [
    "print(X_train.shape, y_train.shape)\n",
    "print(X_test.shape, y_test.shape)"
   ]
  },
  {
   "cell_type": "code",
   "execution_count": 346,
   "metadata": {
    "colab": {
     "base_uri": "https://localhost:8080/"
    },
    "executionInfo": {
     "elapsed": 657,
     "status": "ok",
     "timestamp": 1643466386819,
     "user": {
      "displayName": "Hari chandana",
      "photoUrl": "https://lh3.googleusercontent.com/a-/AOh14Ggw5Mxz3vw2JK72tq9cQj2vsDS_hk4IZ4hqfag8KA=s64",
      "userId": "14544941550889507247"
     },
     "user_tz": -330
    },
    "id": "VAPVuf_6O6VP",
    "outputId": "e364ba36-0790-4d0e-f9c9-f5c0f0571c40"
   },
   "outputs": [
    {
     "name": "stdout",
     "output_type": "stream",
     "text": [
      "Model: \"sequential_4\"\n",
      "_________________________________________________________________\n",
      "Layer (type)                 Output Shape              Param #   \n",
      "=================================================================\n",
      "embedding_4 (Embedding)      (None, 32, 300)           4236000   \n",
      "_________________________________________________________________\n",
      "lstm_6 (LSTM)                (None, 64)                93440     \n",
      "_________________________________________________________________\n",
      "dense_4 (Dense)              (None, 14120)             917800    \n",
      "=================================================================\n",
      "Total params: 5,247,240\n",
      "Trainable params: 1,011,240\n",
      "Non-trainable params: 4,236,000\n",
      "_________________________________________________________________\n"
     ]
    }
   ],
   "source": [
    "from keras.layers import Embedding, LSTM, Dense, Dropout, Bidirectional, SimpleRNN\n",
    "from keras.initializers import Constant\n",
    "lstm_model = Sequential()\n",
    "\n",
    "lstm_model.add(Embedding(input_dim=num_words, output_dim=300, embeddings_initializer=Constant(embedding_matrix), \n",
    "                    input_length=max_len, trainable=False))\n",
    "lstm_model.add(LSTM(64, dropout=0.1))\n",
    "lstm_model.add(Dense(num_words, activation='softmax'))\n",
    "\n",
    "lstm_model.compile(loss='sparse_categorical_crossentropy', optimizer='adam', metrics=['accuracy'])\n",
    "\n",
    "lstm_model.summary()"
   ]
  },
  {
   "cell_type": "code",
   "execution_count": 347,
   "metadata": {
    "colab": {
     "base_uri": "https://localhost:8080/"
    },
    "executionInfo": {
     "elapsed": 6258,
     "status": "ok",
     "timestamp": 1643466393074,
     "user": {
      "displayName": "Hari chandana",
      "photoUrl": "https://lh3.googleusercontent.com/a-/AOh14Ggw5Mxz3vw2JK72tq9cQj2vsDS_hk4IZ4hqfag8KA=s64",
      "userId": "14544941550889507247"
     },
     "user_tz": -330
    },
    "id": "cb9KOC7fO8Vu",
    "outputId": "123384ab-0d4f-40dc-e7a7-d50a60ccdb5c"
   },
   "outputs": [
    {
     "name": "stdout",
     "output_type": "stream",
     "text": [
      "Epoch 1/4\n",
      "1/1 [==============================] - ETA: 0s - loss: 9.5448 - accuracy: 0.0000e+ - 2s 2s/step - loss: 9.5448 - accuracy: 0.0000e+00 - val_loss: 9.5109 - val_accuracy: 0.0703\n",
      "Epoch 2/4\n",
      "1/1 [==============================] - ETA: 0s - loss: 9.5145 - accuracy: 0.03 - 0s 223ms/step - loss: 9.5145 - accuracy: 0.0303 - val_loss: 9.4766 - val_accuracy: 0.7266\n",
      "Epoch 3/4\n",
      "1/1 [==============================] - ETA: 0s - loss: 9.4820 - accuracy: 0.68 - 0s 215ms/step - loss: 9.4820 - accuracy: 0.6835 - val_loss: 9.4374 - val_accuracy: 0.7656\n",
      "Epoch 4/4\n",
      "1/1 [==============================] - ETA: 0s - loss: 9.4442 - accuracy: 0.73 - 0s 219ms/step - loss: 9.4442 - accuracy: 0.7340 - val_loss: 9.3924 - val_accuracy: 0.7656\n"
     ]
    }
   ],
   "source": [
    "history = lstm_model.fit(X_train, y_train, epochs=4, batch_size=1024, validation_data=(X_test, y_test))\n"
   ]
  },
  {
   "cell_type": "code",
   "execution_count": 348,
   "metadata": {
    "colab": {
     "base_uri": "https://localhost:8080/"
    },
    "executionInfo": {
     "elapsed": 606,
     "status": "ok",
     "timestamp": 1643466393672,
     "user": {
      "displayName": "Hari chandana",
      "photoUrl": "https://lh3.googleusercontent.com/a-/AOh14Ggw5Mxz3vw2JK72tq9cQj2vsDS_hk4IZ4hqfag8KA=s64",
      "userId": "14544941550889507247"
     },
     "user_tz": -330
    },
    "id": "pnFAk34nPBis",
    "outputId": "8d4aa73a-d783-4c0e-9b9d-74876aa4399c"
   },
   "outputs": [
    {
     "name": "stdout",
     "output_type": "stream",
     "text": [
      "              precision    recall  f1-score   support\n",
      "\n",
      "           1       0.77      1.00      0.87        98\n",
      "           2       0.00      0.00      0.00        11\n",
      "           3       0.00      0.00      0.00         8\n",
      "           4       0.00      0.00      0.00         9\n",
      "           5       0.00      0.00      0.00         2\n",
      "\n",
      "    accuracy                           0.77       128\n",
      "   macro avg       0.15      0.20      0.17       128\n",
      "weighted avg       0.59      0.77      0.66       128\n",
      "\n"
     ]
    }
   ],
   "source": [
    "print(classification_report(y_test, np.argmax(lstm_model.predict(X_test), axis=-1)))\n"
   ]
  },
  {
   "cell_type": "code",
   "execution_count": 349,
   "metadata": {
    "colab": {
     "base_uri": "https://localhost:8080/"
    },
    "executionInfo": {
     "elapsed": 1270,
     "status": "ok",
     "timestamp": 1643466852123,
     "user": {
      "displayName": "Hari chandana",
      "photoUrl": "https://lh3.googleusercontent.com/a-/AOh14Ggw5Mxz3vw2JK72tq9cQj2vsDS_hk4IZ4hqfag8KA=s64",
      "userId": "14544941550889507247"
     },
     "user_tz": -330
    },
    "id": "twscvTx7PPiY",
    "outputId": "2792b3f6-5b01-4711-96a5-172ff9a6a316"
   },
   "outputs": [],
   "source": [
    "biLSTM = Sequential()\n",
    "import tensorflow as tf\n",
    "biLSTM.add(Embedding(input_dim=num_words, output_dim=300, \n",
    "                    embeddings_initializer=Constant(embedding_matrix), \n",
    "        input_length=max_len, trainable=False))\n",
    "biLSTM.add(Bidirectional(LSTM(units=64, recurrent_dropout = 0.3, dropout = 0.3, \n",
    "                             return_sequences = True)))\n",
    "biLSTM.add(Bidirectional(LSTM(units=32, recurrent_dropout = 0.1, dropout = 0.1)))\n",
    "biLSTM.add(Dense(num_words, activation='softmax'))\n"
   ]
  },
  {
   "cell_type": "code",
   "execution_count": 350,
   "metadata": {
    "executionInfo": {
     "elapsed": 338,
     "status": "ok",
     "timestamp": 1643466860644,
     "user": {
      "displayName": "Hari chandana",
      "photoUrl": "https://lh3.googleusercontent.com/a-/AOh14Ggw5Mxz3vw2JK72tq9cQj2vsDS_hk4IZ4hqfag8KA=s64",
      "userId": "14544941550889507247"
     },
     "user_tz": -330
    },
    "id": "BUiantW8PPpE"
   },
   "outputs": [],
   "source": [
    "biLSTM.compile(optimizer=tf.keras.optimizers.Adam(learning_rate= 0.01), \n",
    "              loss='sparse_categorical_crossentropy', metrics=['accuracy'])"
   ]
  },
  {
   "cell_type": "code",
   "execution_count": 351,
   "metadata": {
    "colab": {
     "base_uri": "https://localhost:8080/"
    },
    "executionInfo": {
     "elapsed": 343,
     "status": "ok",
     "timestamp": 1643466898043,
     "user": {
      "displayName": "Hari chandana",
      "photoUrl": "https://lh3.googleusercontent.com/a-/AOh14Ggw5Mxz3vw2JK72tq9cQj2vsDS_hk4IZ4hqfag8KA=s64",
      "userId": "14544941550889507247"
     },
     "user_tz": -330
    },
    "id": "5ukiifZoQpjP",
    "outputId": "0044ef8d-1131-4fe0-ed3d-e314c5ba72c7"
   },
   "outputs": [
    {
     "name": "stdout",
     "output_type": "stream",
     "text": [
      "Model: \"sequential_5\"\n",
      "_________________________________________________________________\n",
      "Layer (type)                 Output Shape              Param #   \n",
      "=================================================================\n",
      "embedding_5 (Embedding)      (None, 32, 300)           4236000   \n",
      "_________________________________________________________________\n",
      "bidirectional_4 (Bidirection (None, 32, 128)           186880    \n",
      "_________________________________________________________________\n",
      "bidirectional_5 (Bidirection (None, 64)                41216     \n",
      "_________________________________________________________________\n",
      "dense_5 (Dense)              (None, 14120)             917800    \n",
      "=================================================================\n",
      "Total params: 5,381,896\n",
      "Trainable params: 1,145,896\n",
      "Non-trainable params: 4,236,000\n",
      "_________________________________________________________________\n"
     ]
    }
   ],
   "source": [
    "biLSTM.summary()"
   ]
  },
  {
   "cell_type": "code",
   "execution_count": 352,
   "metadata": {
    "colab": {
     "base_uri": "https://localhost:8080/"
    },
    "executionInfo": {
     "elapsed": 15355,
     "status": "ok",
     "timestamp": 1643466410045,
     "user": {
      "displayName": "Hari chandana",
      "photoUrl": "https://lh3.googleusercontent.com/a-/AOh14Ggw5Mxz3vw2JK72tq9cQj2vsDS_hk4IZ4hqfag8KA=s64",
      "userId": "14544941550889507247"
     },
     "user_tz": -330
    },
    "id": "UUIcpl_At4t0",
    "outputId": "67922ee0-f37e-4b45-87c7-e2d20b36445e"
   },
   "outputs": [
    {
     "name": "stdout",
     "output_type": "stream",
     "text": [
      "Epoch 1/4\n",
      "1/1 [==============================] - ETA: 0s - loss: 9.5558 - accuracy: 0.0000e+ - 7s 7s/step - loss: 9.5558 - accuracy: 0.0000e+00 - val_loss: 9.2931 - val_accuracy: 0.7656\n",
      "Epoch 2/4\n",
      "1/1 [==============================] - ETA: 0s - loss: 9.3076 - accuracy: 0.73 - 1s 874ms/step - loss: 9.3076 - accuracy: 0.7340 - val_loss: 8.6132 - val_accuracy: 0.7656\n",
      "Epoch 3/4\n",
      "1/1 [==============================] - ETA: 0s - loss: 8.6246 - accuracy: 0.73 - 1s 892ms/step - loss: 8.6246 - accuracy: 0.7340 - val_loss: 7.8432 - val_accuracy: 0.7656\n",
      "Epoch 4/4\n",
      "1/1 [==============================] - ETA: 0s - loss: 7.8564 - accuracy: 0.73 - 1s 884ms/step - loss: 7.8564 - accuracy: 0.7340 - val_loss: 6.9006 - val_accuracy: 0.7656\n"
     ]
    }
   ],
   "source": [
    "history = biLSTM.fit(X_train, y_train, epochs=4, batch_size=1024, \n",
    "                    validation_data=(X_test, y_test))"
   ]
  },
  {
   "cell_type": "code",
   "execution_count": 353,
   "metadata": {
    "colab": {
     "base_uri": "https://localhost:8080/"
    },
    "executionInfo": {
     "elapsed": 1720,
     "status": "ok",
     "timestamp": 1643466411749,
     "user": {
      "displayName": "Hari chandana",
      "photoUrl": "https://lh3.googleusercontent.com/a-/AOh14Ggw5Mxz3vw2JK72tq9cQj2vsDS_hk4IZ4hqfag8KA=s64",
      "userId": "14544941550889507247"
     },
     "user_tz": -330
    },
    "id": "yacEe_CkuGvd",
    "outputId": "cf2c1293-a592-47ef-b4c3-b8df2471bba2"
   },
   "outputs": [
    {
     "name": "stdout",
     "output_type": "stream",
     "text": [
      "              precision    recall  f1-score   support\n",
      "\n",
      "           1       0.77      1.00      0.87        98\n",
      "           2       0.00      0.00      0.00        11\n",
      "           3       0.00      0.00      0.00         8\n",
      "           4       0.00      0.00      0.00         9\n",
      "           5       0.00      0.00      0.00         2\n",
      "\n",
      "    accuracy                           0.77       128\n",
      "   macro avg       0.15      0.20      0.17       128\n",
      "weighted avg       0.59      0.77      0.66       128\n",
      "\n"
     ]
    }
   ],
   "source": [
    "print(classification_report(y_test, np.argmax(biLSTM.predict(X_test), axis=-1)))"
   ]
  },
  {
   "cell_type": "code",
   "execution_count": null,
   "metadata": {},
   "outputs": [],
   "source": []
  },
  {
   "cell_type": "markdown",
   "metadata": {},
   "source": [
    "###### From all the above models developed, bagging classifer and random classifier are giving the best accuracy. But when we check the other parameters like precision, recall and f1-score they prove the models are skewed towards I. This results in all the responses being I in the chatbot\n",
    "\n",
    "###### So, lets try to resolve the imbalance"
   ]
  },
  {
   "cell_type": "code",
   "execution_count": null,
   "metadata": {},
   "outputs": [],
   "source": []
  },
  {
   "cell_type": "code",
   "execution_count": null,
   "metadata": {},
   "outputs": [],
   "source": []
  },
  {
   "cell_type": "code",
   "execution_count": 436,
   "metadata": {},
   "outputs": [
    {
     "name": "stdout",
     "output_type": "stream",
     "text": [
      "RandomForest Classifier with SMOTE 0.7647058823529411\n",
      "\n",
      "Bagging Classifier with SMOTE 0.6823529411764706\n"
     ]
    }
   ],
   "source": [
    "from imblearn.over_sampling import SMOTE\n",
    "\n",
    "oversample = SMOTE()\n",
    "x_train,y_train = oversample.fit_resample(X_tr, y_tr.ravel())\n",
    "#Using SMOTE to resolve the imbalance\n",
    "bgcl_smote=BaggingClassifier()\n",
    "rf_smote =  RandomForestClassifier()\n",
    "\n",
    "bgcl_smote.fit(x_train,y_train)\n",
    "rf_smote.fit(x_train,y_train)\n",
    "\n",
    "\n",
    "bgcl_smote.score(X_te,y_te)\n",
    "rf_smote.score(X_te,y_te)\n",
    "print('RandomForest Classifier with SMOTE',rf_smote.score(X_te,y_te))\n",
    "print('\\nBagging Classifier with SMOTE',bgcl_smote.score(X_te,y_te))\n",
    "\n",
    "\n",
    "\n",
    "\n"
   ]
  },
  {
   "cell_type": "code",
   "execution_count": 437,
   "metadata": {},
   "outputs": [
    {
     "name": "stdout",
     "output_type": "stream",
     "text": [
      "RandomForest Classifier with SMOTE classification report:-\n",
      "              precision    recall  f1-score   support\n",
      "\n",
      "           1       0.80      0.96      0.87        68\n",
      "           2       0.00      0.00      0.00         6\n",
      "           3       0.00      0.00      0.00         5\n",
      "           4       0.00      0.00      0.00         4\n",
      "           5       0.00      0.00      0.00         2\n",
      "\n",
      "    accuracy                           0.76        85\n",
      "   macro avg       0.16      0.19      0.17        85\n",
      "weighted avg       0.64      0.76      0.70        85\n",
      "\n"
     ]
    }
   ],
   "source": [
    "print(\"RandomForest Classifier with SMOTE classification report:-\")\n",
    "pred_rf_smote = rf_smote.predict(X_te)\n",
    "print(classification_report(y_te, pred_rf_smote))"
   ]
  },
  {
   "cell_type": "code",
   "execution_count": 438,
   "metadata": {},
   "outputs": [
    {
     "name": "stdout",
     "output_type": "stream",
     "text": [
      "Bagging Classifier with SMOTE classification report:-\n",
      "              precision    recall  f1-score   support\n",
      "\n",
      "           1       0.84      0.79      0.82        68\n",
      "           2       0.25      0.33      0.29         6\n",
      "           3       0.00      0.00      0.00         5\n",
      "           4       0.40      0.50      0.44         4\n",
      "           5       0.00      0.00      0.00         2\n",
      "\n",
      "    accuracy                           0.68        85\n",
      "   macro avg       0.30      0.33      0.31        85\n",
      "weighted avg       0.71      0.68      0.70        85\n",
      "\n"
     ]
    }
   ],
   "source": [
    "print(\"Bagging Classifier with SMOTE classification report:-\")\n",
    "pred_bgcl_smote = bgcl_smote.predict(X_te)\n",
    "print(classification_report(y_te, pred_bgcl_smote))"
   ]
  },
  {
   "cell_type": "markdown",
   "metadata": {},
   "source": [
    "## GUI"
   ]
  },
  {
   "cell_type": "code",
   "execution_count": 440,
   "metadata": {},
   "outputs": [
    {
     "name": "stdout",
     "output_type": "stream",
     "text": [
      "[5]\n",
      "[2]\n",
      "[4]\n"
     ]
    }
   ],
   "source": [
    "from tkinter import *\n",
    "gui = Tk()\n",
    "gui.title(\"Accident Chatbot ACB\")\n",
    "\n",
    "def predict(b):\n",
    "    b=[b]\n",
    "    glove_list = list()\n",
    "    for row in b:\n",
    "        sentence = np.zeros(300)\n",
    "        count = 0\n",
    "        for word in clean_text(row):\n",
    "            try:\n",
    "                sentence += model[word]\n",
    "                count += 1\n",
    "            except KeyError:\n",
    "                continue\n",
    "        glove_list.append(sentence / count)\n",
    "    gloveListArray=np.array(glove_list)\n",
    "    return bgcl_smote.predict(gloveListArray)\n",
    "    \n",
    "    \n",
    "    \n",
    "\n",
    "def send():\n",
    "    send = \"\\nYou -> \"+e.get()+'\\n'\n",
    "    txt.insert(END, \" \"+send)\n",
    "    user = e.get().lower()\n",
    "    prediction=predict(user) #this returns the prediction from the model\n",
    "    print(prediction) #prints the prediction in the notebook\n",
    "    if prediction==1:\n",
    "        pred='I'\n",
    "    elif prediction==2:\n",
    "        pred='II'\n",
    "    elif prediction==3:\n",
    "        pred='III'\n",
    "    elif prediction==4:\n",
    "        pred='IV'\n",
    "    elif prediction==5:\n",
    "        pred='V'\n",
    "    elif prediction==6:\n",
    "        pred='VI'\n",
    "            \n",
    "    \n",
    "\n",
    "    txt.insert(END,  \"ACB -> The accident is of level: \"+ pred+\"\\n\")\n",
    "    e.delete(0, END)\n",
    "\n",
    "\n",
    "txt = Text(gui)\n",
    "txt.insert(END,  \"                   Hi! Welcome to the accident report portal.\"+\"\\n\\n\" +\"My name is Accident Chatbot ACB.\"+\"\\n\" + \"Please describe the accident in the below box:-\\n\")\n",
    "\n",
    "txt.grid(row=0, column=0,columnspan=2)\n",
    "e = Entry(gui, width=100)\n",
    "e.grid(row=2, column=0)\n",
    "send = Button(gui, text=\"Send\", command=send).grid(row=2, column=1)#on click on send, invokes send function and passes the typed in text\n",
    "gui.mainloop() #loops as this is a chatbot"
   ]
  },
  {
   "cell_type": "code",
   "execution_count": null,
   "metadata": {},
   "outputs": [],
   "source": []
  },
  {
   "cell_type": "code",
   "execution_count": 441,
   "metadata": {},
   "outputs": [],
   "source": [
    "#Hence we have successfully tried various models and found the best practically working in Bagging Classifier using SMOTE "
   ]
  }
 ],
 "metadata": {
  "accelerator": "GPU",
  "colab": {
   "authorship_tag": "ABX9TyNi/JW4m/yybngWkE2Mo3Uv",
   "collapsed_sections": [],
   "name": "Cap_proj.ipynb",
   "provenance": []
  },
  "kernelspec": {
   "display_name": "Python 3",
   "language": "python",
   "name": "python3"
  },
  "language_info": {
   "codemirror_mode": {
    "name": "ipython",
    "version": 3
   },
   "file_extension": ".py",
   "mimetype": "text/x-python",
   "name": "python",
   "nbconvert_exporter": "python",
   "pygments_lexer": "ipython3",
   "version": "3.7.3"
  }
 },
 "nbformat": 4,
 "nbformat_minor": 1
}
